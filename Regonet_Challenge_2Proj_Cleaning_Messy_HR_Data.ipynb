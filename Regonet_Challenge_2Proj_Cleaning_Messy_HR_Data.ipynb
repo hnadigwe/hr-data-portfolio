{
 "cells": [
  {
   "cell_type": "code",
   "execution_count": 2,
   "id": "656f4898-f657-44cd-95a9-bc4b5141e5de",
   "metadata": {},
   "outputs": [
    {
     "name": "stdout",
     "output_type": "stream",
     "text": [
      "Requirement already satisfied: gdown in c:\\users\\hp user\\anaconda3\\envs\\geopandas_env\\lib\\site-packages (5.2.0)\n",
      "Requirement already satisfied: beautifulsoup4 in c:\\users\\hp user\\anaconda3\\envs\\geopandas_env\\lib\\site-packages (from gdown) (4.12.3)\n",
      "Requirement already satisfied: filelock in c:\\users\\hp user\\anaconda3\\envs\\geopandas_env\\lib\\site-packages (from gdown) (3.18.0)\n",
      "Requirement already satisfied: requests[socks] in c:\\users\\hp user\\anaconda3\\envs\\geopandas_env\\lib\\site-packages (from gdown) (2.32.3)\n",
      "Requirement already satisfied: tqdm in c:\\users\\hp user\\anaconda3\\envs\\geopandas_env\\lib\\site-packages (from gdown) (4.67.1)\n",
      "Requirement already satisfied: soupsieve>1.2 in c:\\users\\hp user\\anaconda3\\envs\\geopandas_env\\lib\\site-packages (from beautifulsoup4->gdown) (2.5)\n",
      "Requirement already satisfied: charset-normalizer<4,>=2 in c:\\users\\hp user\\anaconda3\\envs\\geopandas_env\\lib\\site-packages (from requests[socks]->gdown) (3.4.0)\n",
      "Requirement already satisfied: idna<4,>=2.5 in c:\\users\\hp user\\anaconda3\\envs\\geopandas_env\\lib\\site-packages (from requests[socks]->gdown) (3.10)\n",
      "Requirement already satisfied: urllib3<3,>=1.21.1 in c:\\users\\hp user\\anaconda3\\envs\\geopandas_env\\lib\\site-packages (from requests[socks]->gdown) (2.2.3)\n",
      "Requirement already satisfied: certifi>=2017.4.17 in c:\\users\\hp user\\anaconda3\\envs\\geopandas_env\\lib\\site-packages (from requests[socks]->gdown) (2024.8.30)\n",
      "Requirement already satisfied: PySocks!=1.5.7,>=1.5.6 in c:\\users\\hp user\\anaconda3\\envs\\geopandas_env\\lib\\site-packages (from requests[socks]->gdown) (1.7.1)\n",
      "Requirement already satisfied: colorama in c:\\users\\hp user\\anaconda3\\envs\\geopandas_env\\lib\\site-packages (from tqdm->gdown) (0.4.6)\n",
      "Note: you may need to restart the kernel to use updated packages.\n"
     ]
    }
   ],
   "source": [
    "pip install gdown"
   ]
  },
  {
   "cell_type": "code",
   "execution_count": 3,
   "id": "2d3efbd4-4629-40d8-b26b-8cb02265f172",
   "metadata": {},
   "outputs": [
    {
     "name": "stderr",
     "output_type": "stream",
     "text": [
      "Downloading...\n",
      "From: https://drive.google.com/uc?id=1juE8Rbc08p35Bsscq28rPZhFGg8aIFcu\n",
      "To: C:\\Users\\HP USER\\Documents\\HN-Personal\\Regonet Files\\Regonet_4proj_challenge\\Messy_HR_Proj\\messy_hr.csv\n",
      "100%|██████████| 73.6k/73.6k [00:00<00:00, 37.2MB/s]\n"
     ]
    },
    {
     "name": "stdout",
     "output_type": "stream",
     "text": [
      "Dataset Shape: (1000, 10)\n",
      "\n",
      "Dataset Info:\n",
      "<class 'pandas.core.frame.DataFrame'>\n",
      "RangeIndex: 1000 entries, 0 to 999\n",
      "Data columns (total 10 columns):\n",
      " #   Column             Non-Null Count  Dtype \n",
      "---  ------             --------------  ----- \n",
      " 0   Name               1000 non-null   object\n",
      " 1   Age                841 non-null    object\n",
      " 2   Salary             1000 non-null   object\n",
      " 3   Gender             1000 non-null   object\n",
      " 4   Department         1000 non-null   object\n",
      " 5   Position           1000 non-null   object\n",
      " 6   Joining Date       1000 non-null   object\n",
      " 7   Performance Score  1000 non-null   object\n",
      " 8   Email              610 non-null    object\n",
      " 9   Phone Number       815 non-null    object\n",
      "dtypes: object(10)\n",
      "memory usage: 78.2+ KB\n",
      "None\n",
      "\n",
      "First 5 Rows:\n",
      "       Name  Age          Salary  Gender Department  Position   Joining Date  \\\n",
      "0    grace    25           50000    Male         HR   Manager  April 5, 2018   \n",
      "1    david   NaN           65000  Female    Finance  Director     2020/02/20   \n",
      "2   hannah    35  SIXTY THOUSAND  Female      Sales  Director     01/15/2020   \n",
      "3      eve   NaN           50000  Female         IT   Manager  April 5, 2018   \n",
      "4    grace   NaN            NAN   Female    Finance   Manager     01/15/2020   \n",
      "\n",
      "  Performance Score              Email  Phone Number  \n",
      "0                 D  email@example.com           NaN  \n",
      "1                 F    user@domain.com  123-456-7890  \n",
      "2                 C  email@example.com  098-765-4321  \n",
      "3                 A   name@company.org                \n",
      "4                 F   name@company.org  098-765-4321  \n"
     ]
    }
   ],
   "source": [
    "import gdown\n",
    "import pandas as pd\n",
    "\n",
    "# Google Drive file ID\n",
    "file_id = \"1juE8Rbc08p35Bsscq28rPZhFGg8aIFcu\"\n",
    "url = f\"https://drive.google.com/uc?id={file_id}\"\n",
    "output = \"messy_hr.csv\"  # Output file name\n",
    "\n",
    "# Download the file from Google Drive\n",
    "gdown.download(url, output, quiet=False)\n",
    "\n",
    "# Load into pandas DataFrame\n",
    "df = pd.read_csv(output)\n",
    "\n",
    "# Inspect the dataset\n",
    "print(\"Dataset Shape:\", df.shape)\n",
    "print(\"\\nDataset Info:\")\n",
    "print(df.info())\n",
    "print(\"\\nFirst 5 Rows:\")\n",
    "print(df.head())\n"
   ]
  },
  {
   "cell_type": "markdown",
   "id": "61df792e-45da-4bfa-ad35-3cc5f8a7daae",
   "metadata": {},
   "source": [
    "# 2. THE PREPARE (Data Cleaning)\n",
    "2.1 Overview of the Data Cleaning Process\n",
    "Data cleaning involves identifying and resolving issues like:\n",
    "\n",
    "Inconsistent Formatting\n",
    "\n",
    "Incorrect Data Types\n",
    "\n",
    "Missing Values\n",
    "\n",
    "Placeholders and Invalid Data\n",
    "\n",
    "This phase will focus on:\n",
    "\n",
    "Fixing text-based columns (e.g., \"Salary\", \"Age\") that have inconsistent formats.\n",
    "\n",
    "Converting dates from strings to actual date objects for analysis.\n",
    "\n",
    "Handling missing values by either filling or dropping them.\n",
    "\n",
    "Removing invalid placeholders and correcting errors in contact fields.\n",
    "\n",
    "2.2 Cleaning Strategy\n",
    "I will:\n",
    "\n",
    "Identify problematic columns (e.g., numerical columns with text, extra spaces, and date inconsistencies).\n",
    "\n",
    "Apply necessary transformations like converting text to numbers and dates to proper date formats.\n",
    "\n",
    "Address missing and invalid data by filling with default values or dropping rows."
   ]
  },
  {
   "cell_type": "markdown",
   "id": "75c760e0-b501-4a8c-86e3-5c35191fd4ef",
   "metadata": {},
   "source": [
    "# Data Cleaning Steps\n",
    "## 2.1 Remove Extra Spaces\n",
    " I will remove any leading or trailing spaces from text fields like Name, Department, and Position"
   ]
  },
  {
   "cell_type": "code",
   "execution_count": 5,
   "id": "017a3b7d-e224-44c0-9913-b408bad1edc6",
   "metadata": {},
   "outputs": [
    {
     "name": "stdout",
     "output_type": "stream",
     "text": [
      "     Name Department  Position\n",
      "0   grace         HR   Manager\n",
      "1   david    Finance  Director\n",
      "2  hannah      Sales  Director\n",
      "3     eve         IT   Manager\n",
      "4   grace    Finance   Manager\n"
     ]
    }
   ],
   "source": [
    "# Remove extra spaces from text columns\n",
    "df['Name'] = df['Name'].str.strip()\n",
    "df['Department'] = df['Department'].str.strip()\n",
    "df['Position'] = df['Position'].str.strip()\n",
    "\n",
    "# Check the change\n",
    "print(df[['Name', 'Department', 'Position']].head())\n"
   ]
  },
  {
   "cell_type": "markdown",
   "id": "44819bf9-97e0-4581-b711-38df9b008c9c",
   "metadata": {},
   "source": [
    "# 2.2 Handle Age Column (Numerical Values Only)\n",
    " I will convert the Age column, which has both text and numerical entries (e.g., \"twenty-five\", \"30\"), into a proper numeric format. \n",
    " I will use a function to map text to numbers."
   ]
  },
  {
   "cell_type": "code",
   "execution_count": 11,
   "id": "8c9dc793-4d73-413c-b81d-bfdec560b73e",
   "metadata": {},
   "outputs": [
    {
     "name": "stdout",
     "output_type": "stream",
     "text": [
      "0    25.0\n",
      "1     NaN\n",
      "2    35.0\n",
      "3     NaN\n",
      "4     NaN\n",
      "Name: Age, dtype: float64\n"
     ]
    }
   ],
   "source": [
    "import numpy as np\n",
    "\n",
    "# Mapping function for Age (text to numbers)\n",
    "age_mapping = {\n",
    "    \"twenty-five\": 25,\n",
    "    \"thirty\": 30,\n",
    "    \"forty\": 40,\n",
    "    \"fifty\": 50,\n",
    "    # Add more mappings if needed\n",
    "}\n",
    "\n",
    "# Replace text with corresponding numbers\n",
    "df['Age'] = df['Age'].replace(age_mapping)\n",
    "\n",
    "# Convert the column to numeric (in case of any remaining non-numeric values)\n",
    "df['Age'] = pd.to_numeric(df['Age'], errors='coerce')\n",
    "\n",
    "# Check the conversion\n",
    "print(df['Age'].head())\n"
   ]
  },
  {
   "cell_type": "code",
   "execution_count": 5,
   "id": "58981428-795e-42df-b06d-d91e623e3396",
   "metadata": {},
   "outputs": [
    {
     "name": "stdout",
     "output_type": "stream",
     "text": [
      "Requirement already satisfied: word2number in c:\\users\\hp user\\anaconda3\\lib\\site-packages (1.1)\n"
     ]
    }
   ],
   "source": [
    "!pip install word2number"
   ]
  },
  {
   "cell_type": "code",
   "execution_count": 11,
   "id": "5503e65d-f7bf-44e1-9ce7-bb757a5c7828",
   "metadata": {},
   "outputs": [],
   "source": [
    "import word2number\n",
    "from word2number import w2n"
   ]
  },
  {
   "cell_type": "code",
   "execution_count": 9,
   "id": "c87d1784-88fc-4259-99b1-4609026beff9",
   "metadata": {},
   "outputs": [
    {
     "name": "stdout",
     "output_type": "stream",
     "text": [
      "['C:\\\\Users\\\\HP USER\\\\anaconda3\\\\envs\\\\geopandas_env\\\\python310.zip', 'C:\\\\Users\\\\HP USER\\\\anaconda3\\\\envs\\\\geopandas_env\\\\DLLs', 'C:\\\\Users\\\\HP USER\\\\anaconda3\\\\envs\\\\geopandas_env\\\\lib', 'C:\\\\Users\\\\HP USER\\\\anaconda3\\\\envs\\\\geopandas_env', '', 'C:\\\\Users\\\\HP USER\\\\anaconda3\\\\envs\\\\geopandas_env\\\\lib\\\\site-packages', 'C:\\\\Users\\\\HP USER\\\\anaconda3\\\\envs\\\\geopandas_env\\\\lib\\\\site-packages\\\\win32', 'C:\\\\Users\\\\HP USER\\\\anaconda3\\\\envs\\\\geopandas_env\\\\lib\\\\site-packages\\\\win32\\\\lib', 'C:\\\\Users\\\\HP USER\\\\anaconda3\\\\envs\\\\geopandas_env\\\\lib\\\\site-packages\\\\Pythonwin', 'C:\\\\Users\\\\HP USER\\\\anaconda3\\\\envs\\\\geopandas_env\\\\lib\\\\site-packages\\\\setuptools\\\\_vendor']\n"
     ]
    }
   ],
   "source": [
    "import sys\n",
    "print(sys.path)\n"
   ]
  },
  {
   "cell_type": "code",
   "execution_count": 15,
   "id": "e98fa988-1b26-4822-8007-115ef6d428f8",
   "metadata": {},
   "outputs": [],
   "source": [
    "def word_to_num(word):\n",
    "    num_dict = {\n",
    "        'zero': 0, 'one': 1, 'two': 2, 'three': 3, 'four': 4,\n",
    "        'five': 5, 'six': 6, 'seven': 7, 'eight': 8, 'nine': 9,\n",
    "        'ten': 10, 'eleven': 11, 'twelve': 12, 'thirteen': 13, 'fourteen': 14,\n",
    "        'fifteen': 15, 'sixteen': 16, 'seventeen': 17, 'eighteen': 18, 'nineteen': 19,\n",
    "        'twenty': 20, 'thirty': 30, 'forty': 40, 'fifty': 50, 'sixty': 60,\n",
    "        'seventy': 70, 'eighty': 80, 'ninety': 90\n",
    "    }\n",
    "    word = word.lower()\n",
    "    if word in num_dict:\n",
    "        return num_dict[word]\n",
    "    else:\n",
    "        return None"
   ]
  },
  {
   "cell_type": "code",
   "execution_count": 21,
   "id": "6f2cc97b-7e65-4c06-8cb7-a4b73e477dd3",
   "metadata": {},
   "outputs": [],
   "source": [
    "def extract_age(age):\n",
    "    try:\n",
    "        return word_to_num(age)\n",
    "    except Exception:\n",
    "        try:\n",
    "            return int(age)\n",
    "        except ValueError:\n",
    "            return np.nan"
   ]
  },
  {
   "cell_type": "code",
   "execution_count": 17,
   "id": "0538bbfc-444e-495b-9940-52448e615a27",
   "metadata": {},
   "outputs": [
    {
     "name": "stdout",
     "output_type": "stream",
     "text": [
      "None\n"
     ]
    }
   ],
   "source": [
    "import pkgutil\n",
    "print(pkgutil.find_loader('word2number'))"
   ]
  },
  {
   "cell_type": "code",
   "execution_count": 37,
   "id": "bad00b35-79e7-4e16-b176-62d5e6123250",
   "metadata": {},
   "outputs": [
    {
     "name": "stdout",
     "output_type": "stream",
     "text": [
      "0    25.0\n",
      "1     NaN\n",
      "2    35.0\n",
      "3     NaN\n",
      "4     NaN\n",
      "Name: Age, dtype: float64\n"
     ]
    }
   ],
   "source": [
    "# Handle Age Column\n",
    "#Instead of using a predefined mapping, I decidedto try using the word2number library to convert word representations of numbers to numeric values.\n",
    "\n",
    "import pandas as pd\n",
    "import numpy as np\n",
    "from word2number import w2n\n",
    "\n",
    "# Load the messy data into a DataFrame\n",
    "df = pd.read_csv('messy_hr.csv')\n",
    "\n",
    "def extract_age(age):\n",
    "    try:\n",
    "        return w2n.word_to_num(age)\n",
    "    except ValueError:\n",
    "        try:\n",
    "            return int(age)\n",
    "        except ValueError:\n",
    "            return np.nan\n",
    "\n",
    "df['Age'] = df['Age'].apply(extract_age)\n",
    "\n",
    "# Check the extraction\n",
    "print(df['Age'].head())"
   ]
  },
  {
   "cell_type": "markdown",
   "id": "3c0af7ed-18fb-4d56-8da6-dfab3838ae2a",
   "metadata": {},
   "source": [
    "# 2.3 Handle Salary Column\n",
    "I will clean the Salary column, which contains both numbers and words (e.g., \"SIXTY THOUSAND\" and \"60000\"), and convert them to numeric values."
   ]
  },
  {
   "cell_type": "code",
   "execution_count": 14,
   "id": "edcfc812-73ac-4dfb-9762-c00f0089afb9",
   "metadata": {},
   "outputs": [
    {
     "name": "stdout",
     "output_type": "stream",
     "text": [
      "0    50000.0\n",
      "1    65000.0\n",
      "2    60000.0\n",
      "3    50000.0\n",
      "4        NaN\n",
      "Name: Salary, dtype: float64\n"
     ]
    }
   ],
   "source": [
    "# Mapping function for Salary (text to numbers)\n",
    "salary_mapping = {\n",
    "    \"SIXTY THOUSAND\": 60000,\n",
    "    \"FIFTY THOUSAND\": 50000,\n",
    "    \"FORTY THOUSAND\": 40000,\n",
    "    # Add more mappings if needed\n",
    "}\n",
    "\n",
    "# Replace text with corresponding numbers\n",
    "df['Salary'] = df['Salary'].replace(salary_mapping)\n",
    "\n",
    "# Convert the column to numeric\n",
    "df['Salary'] = pd.to_numeric(df['Salary'], errors='coerce')\n",
    "\n",
    "# Check the conversion\n",
    "print(df['Salary'].head())\n"
   ]
  },
  {
   "cell_type": "code",
   "execution_count": 33,
   "id": "f6dfd49f-ad60-4db5-ba47-d1973da8730e",
   "metadata": {},
   "outputs": [
    {
     "name": "stdout",
     "output_type": "stream",
     "text": [
      "0    50000000.0\n",
      "1    65000000.0\n",
      "2    60000000.0\n",
      "3    50000000.0\n",
      "4           NaN\n",
      "Name: Salary, dtype: float64\n"
     ]
    }
   ],
   "source": [
    "# A 2nd attempt at cleaning saw me use the word2number library to convert word representations of numbers to numeric values.\n",
    "import numpy as np\n",
    "import re\n",
    "from word2number import w2n\n",
    "\n",
    "def extract_salary(salary):\n",
    "    if pd.isnull(salary):\n",
    "        return np.nan\n",
    "    try:\n",
    "        return w2n.word_to_num(str(salary)) * 1000  # Assuming the salary is in thousands\n",
    "    except ValueError:\n",
    "        try:\n",
    "            return int(re.sub(r'[^\\d]', '', str(salary)))  # Remove non-numeric characters\n",
    "        except ValueError:\n",
    "            return np.nan\n",
    "\n",
    "# Check the extraction\n",
    "print(df['Salary'].head())\n"
   ]
  },
  {
   "cell_type": "markdown",
   "id": "22e4a5a0-faf3-4366-87d8-090d4a89bb5a",
   "metadata": {},
   "source": [
    "# 2.4 Convert Joining Date to Date Format\n",
    "I will convert the Joining Date column, which contains mixed date formats (e.g., \"2021-01-15\", \"15/01/2021\"), into a consistent date format."
   ]
  },
  {
   "cell_type": "code",
   "execution_count": 17,
   "id": "45f01f9c-0313-4ae6-a9ce-42145f73ee3b",
   "metadata": {},
   "outputs": [
    {
     "name": "stdout",
     "output_type": "stream",
     "text": [
      "0   2018-04-05\n",
      "1          NaT\n",
      "2          NaT\n",
      "3   2018-04-05\n",
      "4          NaT\n",
      "Name: Joining Date, dtype: datetime64[ns]\n"
     ]
    }
   ],
   "source": [
    "# Convert 'Joining Date' to datetime\n",
    "df['Joining Date'] = pd.to_datetime(df['Joining Date'], errors='coerce')\n",
    "\n",
    "# Check the conversion\n",
    "print(df['Joining Date'].head())\n"
   ]
  },
  {
   "cell_type": "code",
   "execution_count": 55,
   "id": "556da3a9-1837-4a5d-9e40-09f04c1e370e",
   "metadata": {},
   "outputs": [
    {
     "name": "stderr",
     "output_type": "stream",
     "text": [
      "ERROR: pip's dependency resolver does not currently take into account all the packages that are installed. This behaviour is the source of the following dependency conflicts.\n",
      "spyder 5.5.1 requires numpydoc>=0.6.0, which is not installed.\n"
     ]
    },
    {
     "name": "stdout",
     "output_type": "stream",
     "text": [
      "Collecting dateparser\n",
      "  Downloading dateparser-1.2.1-py3-none-any.whl.metadata (29 kB)\n",
      "Requirement already satisfied: python-dateutil>=2.7.0 in c:\\users\\hp user\\anaconda3\\lib\\site-packages (from dateparser) (2.9.0.post0)\n",
      "Collecting pytz>=2024.2 (from dateparser)\n",
      "  Downloading pytz-2025.2-py2.py3-none-any.whl.metadata (22 kB)\n",
      "Requirement already satisfied: regex!=2019.02.19,!=2021.8.27,>=2015.06.24 in c:\\users\\hp user\\anaconda3\\lib\\site-packages (from dateparser) (2024.9.11)\n",
      "Collecting tzlocal>=0.2 (from dateparser)\n",
      "  Downloading tzlocal-5.3.1-py3-none-any.whl.metadata (7.6 kB)\n",
      "Requirement already satisfied: six>=1.5 in c:\\users\\hp user\\anaconda3\\lib\\site-packages (from python-dateutil>=2.7.0->dateparser) (1.16.0)\n",
      "Requirement already satisfied: tzdata in c:\\users\\hp user\\anaconda3\\lib\\site-packages (from tzlocal>=0.2->dateparser) (2023.3)\n",
      "Downloading dateparser-1.2.1-py3-none-any.whl (295 kB)\n",
      "Downloading pytz-2025.2-py2.py3-none-any.whl (509 kB)\n",
      "Downloading tzlocal-5.3.1-py3-none-any.whl (18 kB)\n",
      "Installing collected packages: pytz, tzlocal, dateparser\n",
      "  Attempting uninstall: pytz\n",
      "    Found existing installation: pytz 2024.1\n",
      "    Uninstalling pytz-2024.1:\n",
      "      Successfully uninstalled pytz-2024.1\n",
      "Successfully installed dateparser-1.2.1 pytz-2025.2 tzlocal-5.3.1\n"
     ]
    }
   ],
   "source": [
    "!pip install dateparser\n"
   ]
  },
  {
   "cell_type": "code",
   "execution_count": 5,
   "id": "b7385eb3-01e1-4c34-81da-274c3c75ea15",
   "metadata": {},
   "outputs": [
    {
     "name": "stdout",
     "output_type": "stream",
     "text": [
      "0   2018-04-05\n",
      "1   2020-02-20\n",
      "2   2020-01-15\n",
      "3   2018-04-05\n",
      "4   2020-01-15\n",
      "Name: Joining Date, dtype: datetime64[ns]\n"
     ]
    }
   ],
   "source": [
    "# The conversion of the joining date format was not good enough so I decided to carry out date parsing step and see if we can improve the outcome by use of the dateparser library to handle the variations in date \n",
    "import dateparser\n",
    "import pandas as pd\n",
    "\n",
    "# Load the messy data into a DataFrame\n",
    "df = pd.read_csv('messy_hr.csv')\n",
    "\n",
    "def parse_date(date_str):\n",
    "    try:\n",
    "        return dateparser.parse(date_str)\n",
    "    except Exception as e:\n",
    "        return None\n",
    "\n",
    "df['Joining Date'] = df['Joining Date'].apply(parse_date)\n",
    "\n",
    "# Check the parsing\n",
    "print(df['Joining Date'].head())\n"
   ]
  },
  {
   "cell_type": "markdown",
   "id": "b5aaf099-d1b9-4a9d-9ae5-a196403649f3",
   "metadata": {},
   "source": [
    "# 2.5 Handle Missing Values\n",
    "I will address the missing values in critical columns like Email and Phone Number. One option is to fill the missing values with a placeholder or drop rows where necessary."
   ]
  },
  {
   "cell_type": "code",
   "execution_count": 20,
   "id": "1f5c2c9f-70b0-4b0c-ba53-604ec5484584",
   "metadata": {},
   "outputs": [
    {
     "name": "stdout",
     "output_type": "stream",
     "text": [
      "Name                   0\n",
      "Age                  159\n",
      "Salary               167\n",
      "Gender                 0\n",
      "Department             0\n",
      "Position               0\n",
      "Joining Date         814\n",
      "Performance Score      0\n",
      "Email                  0\n",
      "Phone Number           0\n",
      "dtype: int64\n"
     ]
    },
    {
     "name": "stderr",
     "output_type": "stream",
     "text": [
      "C:\\Users\\HP USER\\AppData\\Local\\Temp\\ipykernel_41868\\2431257312.py:2: FutureWarning: A value is trying to be set on a copy of a DataFrame or Series through chained assignment using an inplace method.\n",
      "The behavior will change in pandas 3.0. This inplace method will never work because the intermediate object on which we are setting values always behaves as a copy.\n",
      "\n",
      "For example, when doing 'df[col].method(value, inplace=True)', try using 'df.method({col: value}, inplace=True)' or df[col] = df[col].method(value) instead, to perform the operation inplace on the original object.\n",
      "\n",
      "\n",
      "  df['Email'].fillna('missing@example.com', inplace=True)\n",
      "C:\\Users\\HP USER\\AppData\\Local\\Temp\\ipykernel_41868\\2431257312.py:3: FutureWarning: A value is trying to be set on a copy of a DataFrame or Series through chained assignment using an inplace method.\n",
      "The behavior will change in pandas 3.0. This inplace method will never work because the intermediate object on which we are setting values always behaves as a copy.\n",
      "\n",
      "For example, when doing 'df[col].method(value, inplace=True)', try using 'df.method({col: value}, inplace=True)' or df[col] = df[col].method(value) instead, to perform the operation inplace on the original object.\n",
      "\n",
      "\n",
      "  df['Phone Number'].fillna('000-000-0000', inplace=True)\n"
     ]
    }
   ],
   "source": [
    "# Fill missing 'Email' and 'Phone Number' with placeholder\n",
    "df['Email'].fillna('missing@example.com', inplace=True)\n",
    "df['Phone Number'].fillna('000-000-0000', inplace=True)\n",
    "\n",
    "# Alternatively, drop rows with missing critical columns (Email or Phone Number)\n",
    "df.dropna(subset=['Email', 'Phone Number'], inplace=True)\n",
    "\n",
    "# Check for missing values\n",
    "print(df.isnull().sum())\n"
   ]
  },
  {
   "cell_type": "code",
   "execution_count": 29,
   "id": "7a031ab8-227f-4d17-b8dc-951c153733e7",
   "metadata": {},
   "outputs": [
    {
     "name": "stdout",
     "output_type": "stream",
     "text": [
      "Name                   0\n",
      "Age                  159\n",
      "Salary               167\n",
      "Gender                 0\n",
      "Department             0\n",
      "Position               0\n",
      "Joining Date           0\n",
      "Performance Score      0\n",
      "Email                  0\n",
      "Phone Number           0\n",
      "dtype: int64\n"
     ]
    }
   ],
   "source": [
    "# Instead of filling missing values with placeholders,I tried more robust imputation methods like mean, median, or mode.\n",
    "# For Email and Phone Number, you can use mode imputation\n",
    "df['Email'].fillna(df['Email'].mode()[0], inplace=True)\n",
    "df['Phone Number'].fillna(df['Phone Number'].mode()[0], inplace=True)\n",
    "\n",
    "# Check for missing values\n",
    "print(df.isnull().sum())\n"
   ]
  },
  {
   "cell_type": "code",
   "execution_count": 7,
   "id": "9fd8f339-5c00-439c-af0d-278ae65eee1a",
   "metadata": {},
   "outputs": [
    {
     "name": "stdout",
     "output_type": "stream",
     "text": [
      "390\n",
      "185\n"
     ]
    }
   ],
   "source": [
    "# I decided to further investigate the Email and Phone Number columns further\n",
    "\n",
    "print(df['Email'].isnull().sum())\n",
    "print(df['Phone Number'].isnull().sum())\n"
   ]
  },
  {
   "cell_type": "code",
   "execution_count": 11,
   "id": "aa1722b2-72a9-47cc-9f97-8920e6059d77",
   "metadata": {},
   "outputs": [
    {
     "name": "stdout",
     "output_type": "stream",
     "text": [
      "         Name     Age Salary Gender Department   Position Joining Date  \\\n",
      "6    charlie      NaN  50000   Male  Marketing      Clerk   2019-12-01   \n",
      "7      grace       40  50000  Other         HR   Director   2019-03-25   \n",
      "9        eve   thirty   NAN   Other    Finance  Assistant   2020-02-20   \n",
      "10     david       25  70000   Male  Marketing    Analyst   2019-12-01   \n",
      "11    hannah      NaN  70000  Other    Finance  Assistant   2019-03-25   \n",
      "\n",
      "   Performance Score Email  Phone Number  \n",
      "6                  B   NaN  123-456-7890  \n",
      "7                  C   NaN                \n",
      "9                  A   NaN                \n",
      "10                 B   NaN  123-456-7890  \n",
      "11                 A   NaN           NaN  \n",
      "        Name  Age Salary  Gender Department   Position Joining Date  \\\n",
      "0     grace    25  50000    Male         HR    Manager   2018-04-05   \n",
      "5      jack   NaN  65000   Other  Marketing   Director   2019-03-25   \n",
      "11   hannah   NaN  70000   Other    Finance  Assistant   2019-03-25   \n",
      "19      bob    50  50000  Female    Finance  Assistant   2019-03-25   \n",
      "34    grace    25  65000    Male         IT  Assistant   2020-02-20   \n",
      "\n",
      "   Performance Score              Email Phone Number  \n",
      "0                  D  email@example.com          NaN  \n",
      "5                  F    user@domain.com          NaN  \n",
      "11                 A                NaN          NaN  \n",
      "19                 D    user@domain.com          NaN  \n",
      "34                 A   name@company.org          NaN  \n"
     ]
    }
   ],
   "source": [
    "# Investigating the missing email and phone rows \n",
    "missing_email_rows = df[df['Email'].isnull()]\n",
    "missing_phone_rows = df[df['Phone Number'].isnull()]\n",
    "\n",
    "print(missing_email_rows.head())\n",
    "print(missing_phone_rows.head())\n"
   ]
  },
  {
   "cell_type": "markdown",
   "id": "196686f6-86e3-46d7-a2e0-3eb0edc79fb5",
   "metadata": {},
   "source": [
    "# 2.6 Remove Invalid Placeholders\n",
    "If the Salary column has placeholders like \"NAN\", I will now replace them with NaN and then handle them accordingly. This worked initially but upon revisiting the data cleaning process to carry out  more robust approach, a rerun ended with an error.\n",
    "\n",
    "So I decide to apply a more robust approach - pd.to_numeric is used with errors='coerce' to convert the Salary column to numeric values. Any non-numeric values are converted to NaN."
   ]
  },
  {
   "cell_type": "code",
   "execution_count": 14,
   "id": "e9a33499-70bf-4cfc-95f7-b1431da90e8b",
   "metadata": {},
   "outputs": [
    {
     "name": "stdout",
     "output_type": "stream",
     "text": [
      "0\n"
     ]
    },
    {
     "name": "stderr",
     "output_type": "stream",
     "text": [
      "C:\\Users\\HP USER\\AppData\\Local\\Temp\\ipykernel_28228\\1274679248.py:6: FutureWarning: A value is trying to be set on a copy of a DataFrame or Series through chained assignment using an inplace method.\n",
      "The behavior will change in pandas 3.0. This inplace method will never work because the intermediate object on which we are setting values always behaves as a copy.\n",
      "\n",
      "For example, when doing 'df[col].method(value, inplace=True)', try using 'df.method({col: value}, inplace=True)' or df[col] = df[col].method(value) instead, to perform the operation inplace on the original object.\n",
      "\n",
      "\n",
      "  df['Salary'].fillna(median_salary, inplace=True)\n"
     ]
    }
   ],
   "source": [
    "# Convert Salary column to numeric values, coercing errors to NaN\n",
    "df['Salary'] = pd.to_numeric(df['Salary'], errors='coerce')\n",
    "\n",
    "# Handle NaN values (e.g., fill with median)\n",
    "median_salary = df['Salary'].median()\n",
    "df['Salary'].fillna(median_salary, inplace=True)\n",
    "\n",
    "# Check for missing Salary after handling\n",
    "print(df['Salary'].isnull().sum())"
   ]
  },
  {
   "cell_type": "markdown",
   "id": "de19b623-0262-474d-b9d1-3f6cdfb12fc0",
   "metadata": {},
   "source": [
    "# 2.7 Outcome\n",
    "After cleaning, the next thing is to inspect the data for consistency and correctness. Then print the cleaned data and summary statistics."
   ]
  },
  {
   "cell_type": "code",
   "execution_count": 26,
   "id": "06e07494-7947-459d-8fd1-9b8aa9c90f23",
   "metadata": {},
   "outputs": [
    {
     "name": "stdout",
     "output_type": "stream",
     "text": [
      "Cleaned Data Shape: (1000, 10)\n",
      "\n",
      "Cleaned Data Info:\n",
      "<class 'pandas.core.frame.DataFrame'>\n",
      "RangeIndex: 1000 entries, 0 to 999\n",
      "Data columns (total 10 columns):\n",
      " #   Column             Non-Null Count  Dtype         \n",
      "---  ------             --------------  -----         \n",
      " 0   Name               1000 non-null   object        \n",
      " 1   Age                841 non-null    float64       \n",
      " 2   Salary             1000 non-null   float64       \n",
      " 3   Gender             1000 non-null   object        \n",
      " 4   Department         1000 non-null   object        \n",
      " 5   Position           1000 non-null   object        \n",
      " 6   Joining Date       186 non-null    datetime64[ns]\n",
      " 7   Performance Score  1000 non-null   object        \n",
      " 8   Email              1000 non-null   object        \n",
      " 9   Phone Number       1000 non-null   object        \n",
      "dtypes: datetime64[ns](1), float64(2), object(7)\n",
      "memory usage: 78.2+ KB\n",
      "None\n",
      "\n",
      "First 5 Rows of Cleaned Data:\n",
      "     Name   Age   Salary  Gender Department  Position Joining Date  \\\n",
      "0   grace  25.0  50000.0    Male         HR   Manager   2018-04-05   \n",
      "1   david   NaN  65000.0  Female    Finance  Director          NaT   \n",
      "2  hannah  35.0  60000.0  Female      Sales  Director          NaT   \n",
      "3     eve   NaN  50000.0  Female         IT   Manager   2018-04-05   \n",
      "4   grace   NaN  60000.0  Female    Finance   Manager          NaT   \n",
      "\n",
      "  Performance Score              Email  Phone Number  \n",
      "0                 D  email@example.com  000-000-0000  \n",
      "1                 F    user@domain.com  123-456-7890  \n",
      "2                 C  email@example.com  098-765-4321  \n",
      "3                 A   name@company.org                \n",
      "4                 F   name@company.org  098-765-4321  \n"
     ]
    }
   ],
   "source": [
    "# Final inspection\n",
    "print(\"Cleaned Data Shape:\", df.shape)\n",
    "print(\"\\nCleaned Data Info:\")\n",
    "print(df.info())\n",
    "print(\"\\nFirst 5 Rows of Cleaned Data:\")\n",
    "print(df.head())\n"
   ]
  },
  {
   "cell_type": "code",
   "execution_count": 44,
   "id": "d23d6caa-8cba-49c5-a113-47be157310b3",
   "metadata": {},
   "outputs": [
    {
     "name": "stdout",
     "output_type": "stream",
     "text": [
      "Cleaned Data Shape: (1000, 10)\n",
      "\n",
      "Cleaned Data Info:\n",
      "<class 'pandas.core.frame.DataFrame'>\n",
      "RangeIndex: 1000 entries, 0 to 999\n",
      "Data columns (total 10 columns):\n",
      " #   Column             Non-Null Count  Dtype  \n",
      "---  ------             --------------  -----  \n",
      " 0   Name               1000 non-null   object \n",
      " 1   Age                841 non-null    float64\n",
      " 2   Salary             1000 non-null   float64\n",
      " 3   Gender             1000 non-null   object \n",
      " 4   Department         1000 non-null   object \n",
      " 5   Position           1000 non-null   object \n",
      " 6   Joining Date       1000 non-null   object \n",
      " 7   Performance Score  1000 non-null   object \n",
      " 8   Email              610 non-null    object \n",
      " 9   Phone Number       815 non-null    object \n",
      "dtypes: float64(2), object(8)\n",
      "memory usage: 78.2+ KB\n",
      "None\n",
      "\n",
      "First 5 Rows of Cleaned Data:\n",
      "       Name   Age   Salary  Gender Department  Position   Joining Date  \\\n",
      "0    grace   25.0  50000.0    Male         HR   Manager  April 5, 2018   \n",
      "1    david    NaN  65000.0  Female    Finance  Director     2020/02/20   \n",
      "2   hannah   35.0  65000.0  Female      Sales  Director     01/15/2020   \n",
      "3      eve    NaN  50000.0  Female         IT   Manager  April 5, 2018   \n",
      "4    grace    NaN  65000.0  Female    Finance   Manager     01/15/2020   \n",
      "\n",
      "  Performance Score              Email  Phone Number  \n",
      "0                 D  email@example.com           NaN  \n",
      "1                 F    user@domain.com  123-456-7890  \n",
      "2                 C  email@example.com  098-765-4321  \n",
      "3                 A   name@company.org                \n",
      "4                 F   name@company.org  098-765-4321  \n"
     ]
    }
   ],
   "source": [
    "# Final inspection\n",
    "print(\"Cleaned Data Shape:\", df.shape)\n",
    "print(\"\\nCleaned Data Info:\")\n",
    "print(df.info())\n",
    "print(\"\\nFirst 5 Rows of Cleaned Data:\")\n",
    "print(df.head())"
   ]
  },
  {
   "cell_type": "code",
   "execution_count": 16,
   "id": "67580eee-2c0d-40e9-b21d-88eb321a0338",
   "metadata": {},
   "outputs": [
    {
     "name": "stdout",
     "output_type": "stream",
     "text": [
      "Cleaned Data Shape: (1000, 10)\n",
      "\n",
      "Cleaned Data Info:\n",
      "<class 'pandas.core.frame.DataFrame'>\n",
      "RangeIndex: 1000 entries, 0 to 999\n",
      "Data columns (total 10 columns):\n",
      " #   Column             Non-Null Count  Dtype         \n",
      "---  ------             --------------  -----         \n",
      " 0   Name               1000 non-null   object        \n",
      " 1   Age                841 non-null    object        \n",
      " 2   Salary             1000 non-null   float64       \n",
      " 3   Gender             1000 non-null   object        \n",
      " 4   Department         1000 non-null   object        \n",
      " 5   Position           1000 non-null   object        \n",
      " 6   Joining Date       1000 non-null   datetime64[ns]\n",
      " 7   Performance Score  1000 non-null   object        \n",
      " 8   Email              610 non-null    object        \n",
      " 9   Phone Number       815 non-null    object        \n",
      "dtypes: datetime64[ns](1), float64(1), object(8)\n",
      "memory usage: 78.2+ KB\n",
      "None\n",
      "\n",
      "First 5 Rows of Cleaned Data:\n",
      "       Name  Age   Salary  Gender Department  Position Joining Date  \\\n",
      "0    grace    25  50000.0    Male         HR   Manager   2018-04-05   \n",
      "1    david   NaN  65000.0  Female    Finance  Director   2020-02-20   \n",
      "2   hannah    35  65000.0  Female      Sales  Director   2020-01-15   \n",
      "3      eve   NaN  50000.0  Female         IT   Manager   2018-04-05   \n",
      "4    grace   NaN  65000.0  Female    Finance   Manager   2020-01-15   \n",
      "\n",
      "  Performance Score              Email  Phone Number  \n",
      "0                 D  email@example.com           NaN  \n",
      "1                 F    user@domain.com  123-456-7890  \n",
      "2                 C  email@example.com  098-765-4321  \n",
      "3                 A   name@company.org                \n",
      "4                 F   name@company.org  098-765-4321  \n"
     ]
    }
   ],
   "source": [
    "# Final inspection\n",
    "print(\"Cleaned Data Shape:\", df.shape)\n",
    "print(\"\\nCleaned Data Info:\")\n",
    "print(df.info())\n",
    "print(\"\\nFirst 5 Rows of Cleaned Data:\")\n",
    "print(df.head())"
   ]
  },
  {
   "cell_type": "markdown",
   "id": "182fdd83-1786-4493-93b6-e20922ba3660",
   "metadata": {},
   "source": [
    "# 2.8: Save the Cleaned Data\n",
    "Finally, we can save the cleaned dataset for future use"
   ]
  },
  {
   "cell_type": "code",
   "execution_count": 18,
   "id": "0dfd540c-7d5e-4b44-b759-a3122596d5ab",
   "metadata": {},
   "outputs": [],
   "source": [
    "# Save cleaned data to CSV\n",
    "df.to_csv(\"cleaned_hr_data.csv\", index=False)"
   ]
  },
  {
   "cell_type": "markdown",
   "id": "d7764fd2-e925-4654-9104-04329da86876",
   "metadata": {},
   "source": [
    "# Summary of The Prepare Phase: Data Cleaning and Preprocessing\n",
    "\n",
    "### Step 1: Load and Inspect Data\n",
    "\n",
    "- Loaded the dataset into a pandas DataFrame\n",
    "- Inspected the data for missing values, data types, and summary statistics\n",
    "\n",
    "### Step 2: Handle Missing Values\n",
    "\n",
    "- Identified columns with missing values: Age, Joining Date, Email, and Phone Number\n",
    "- Used pd.to_numeric with errors='coerce' to convert non-numeric values in Salary column to NaN\n",
    "- Filled NaN values in Salary column with median salary\n",
    "- Used dateparser to parse dates in Joining Date column\n",
    "\n",
    "### Step 3: Clean Salary Column\n",
    "\n",
    "- Identified non-numeric values in Salary column\n",
    "- Used pd.to_numeric with errors='coerce' to convert non-numeric values to NaN\n",
    "- Filled NaN values in Salary column with median salary\n",
    "\n",
    "### Step 4: Final Inspection and Saving Data\n",
    "\n",
    "- Inspected the cleaned data for consistency and correctness\n",
    "- Saved the cleaned data to a new CSV file named cleaned_hr_data.csv\n",
    "\n",
    "### Assumptions and Decisions:\n",
    "\n",
    "- Assumed that the median salary is a suitable replacement for missing or non-numeric salary values\n",
    "- Decided to use dateparser to parse dates in Joining Date column\n",
    "\n",
    "### Limitations and Future Work:\n",
    "\n",
    "- Further cleaning and processing steps may be necessary for Email and Phone Number columns\n",
    "- Additional analysis may be necessary to determine the best approach for handling missing values in Age column\n",
    "\n",
    "This markdown provides a structured overview of the steps taken during the prepare phase, including assumptions and decisions made. "
   ]
  },
  {
   "cell_type": "markdown",
   "id": "5547f837-5d18-4984-bd67-d9a320c66462",
   "metadata": {},
   "source": [
    "# 🧹 3. THE PROCESS\n",
    "## Key Cleaning Tasks:\n",
    "\n",
    "### Task\tMethod\n",
    "#### Standardize numeric columns\tUse word2number or a mapping dictionary\n",
    "#### Strip spaces in strings\tdf[col] = df[col].str.strip()\n",
    "#### Convert dates to datetime\tUse pd.to_datetime with errors='coerce'\n",
    "#### Clean phone numbers & emails\tRegex patterns for validity\n",
    "#### Handle missing/invalid values\tnp.nan, fillna(), or imputation strategies\n",
    "#### Remove placeholder strings (e.g., “NAN”)\tReplace with np.nan\n",
    "\n",
    "### Present each transformation step:\n",
    "\n",
    "#### The reason for performing it\n",
    "\n",
    "#### Code\n",
    "\n",
    "#### A summary table of before/after sample values\n",
    "\n",
    "#### Interpretation\n",
    "\n",
    "#### Any challenges encountered\n",
    "\n",
    "#### Output PNGs:\n",
    "\n",
    "#### Distributions before/after cleaning.\n",
    "\n",
    "#### Invalid vs. valid email/phone counts.\n",
    "\n",
    "#### Null values per column (barplot).\n",
    "\n",
    "## ✅ Detailed Transformation Reporting\n",
    "### For each task, the following would be needed:\n",
    "\n",
    "#### ✅ The reason for cleaning\n",
    "\n",
    "#### ✅ The code\n",
    "\n",
    "#### ✅ A before/after sample table\n",
    "\n",
    "#### ✅ Interpretation\n",
    "\n",
    "#### ✅ Challenges encountered\n",
    "\n",
    "#### ✅ Visual outputs:\n",
    "\n",
    "##### Histogram/distribution plots before and after cleaning\n",
    "\n",
    "##### Email/phone number validity counts\n",
    "\n",
    "##### Nulls per column (bar chart)\n",
    "\n",
    "## 🔄 What has already been covered in the Prepare Phase:\n",
    "###  Task\t                            Status\t                     Notes\n",
    "#### Strip spaces in strings \t        ✅ Done\t✔                   Applied str.strip() on text fields\n",
    "#### Standardize numeric columns\t    ✅ Partial\t✔               Used mapping; need to show before/after\n",
    "#### Convert dates to datetime\t        ✅ Done\t✔                   Used pd.to_datetime()\n",
    "#### Remove placeholders (\"NAN\")\t    ✅ Done\t✔                   Replaced with np.nan\n",
    "#### Handle missing/invalid values\t    ✅ Partial\t✔               Used fillna(); need to show visual summary\n",
    "#### Clean phone numbers & emails\t    ❌ Not Yet\t                Need to use regex + validate counts\n",
    "#### Visual output PNGs\t                ❌ Not Yet\t                Need to create and save plots (e.g. matplotlib, seaborn)\n",
    " \n",
    "## ✅ Next Steps to Complete the PROCESS Phase:\n",
    "\n",
    "### ✅ Updated PROCESS Phase Plan (Aligned with Dictionary Method)\n",
    "\n",
    "| **Step** | **Task**                                        | **Details / Notes**                                                                                          |\n",
    "| -------- | ----------------------------------------------- | -----------------------------------------------------------------------------------------\n",
    "| 1        | **Visualize nulls per column**                  | Use `seaborn` barplot to show missing values count per column → Save as PNG                                  |\n",
    "| 2        | **Clean and standardize numeric columns**       |                                                                                                              |\n",
    "| 2a       | → **Age**                                       | Use **custom dictionary mapping** to convert words like `'thirty'` to `30`, then convert to numeric.         |\n",
    "| 2b       | → **Salary**                                    | Strip text like `'thousand'`, use mapping for words (e.g., `\"sixty\"` → `60_000`) where needed.               |\n",
    "| 2c       | → **Distributions Before/After**                | Use histograms or boxplots for Age & Salary → Save as PNGs.                                                  |\n",
    "| 3        | **Convert dates to datetime**                   | Use `pd.to_datetime()` with `errors='coerce'` to handle inconsistent formats.                                |\n",
    "| 4        | **Validate and clean emails and phone numbers** | Use **regex** to detect invalid entries, replace invalid ones with `NaN`. Count valid/invalid → barplot PNG. |\n",
    "| 5        | **Strip whitespaces in string fields**          | Standard cleanup with `.str.strip()` for relevant text fields.                                               |\n",
    "| 6        | **Handle placeholders (e.g., 'NAN')**           | Replace common invalid strings with `np.nan`.                                                                |\n",
    "| 7        | **Before/After sample tables**                  | Create side-by-side DataFrames showing 5 rows before and after for: Age, Salary, Date, Email, Phone.         |\n",
    "| 8        | **Summarize challenges & interpretation**       | A markdown-style or table summary of: what was wrong, how it was fixed, any limitations.                     |\n",
    "| 9        | **Save Outputs**                                | Save each visual (nulls, distribution, validation counts) as PNG. Keep code and commentary in notebook.      |\n",
    "\n",
    "### 🔄 Replacing `word2number`:\n",
    "\n",
    "**Old plan:** Use `word2number` to convert text like `'thirty'` to `30`.\n",
    "\n",
    "**New plan:** Use a **custom dictionary mapping**, e.g.:\n",
    "\n",
    "```\n",
    "word_to_num = {\n",
    "    'twenty-five': 25,\n",
    "    'thirty': 30,\n",
    "    'forty-five': 45,\n",
    "    'fifty thousand': 50000,\n",
    "    'sixty thousand': 60000\n",
    "}\n",
    "```\n",
    "\n",
    "This is safer and avoids needing external libraries.\n"
   ]
  },
  {
   "cell_type": "markdown",
   "id": "ad67f5b5-5bd6-4501-a82b-3b241696e28c",
   "metadata": {},
   "source": [
    "# 3.1: Visualize Nulls Per Column (Bar Plot)\n",
    "🔍 Purpose\n",
    "To understand which columns have missing values and how many, so we can prioritize cleaning and imputation."
   ]
  },
  {
   "cell_type": "code",
   "execution_count": 54,
   "id": "34ee4011-fd25-4289-9ba6-a44d4e43732a",
   "metadata": {
    "scrolled": true
   },
   "outputs": [
    {
     "name": "stdout",
     "output_type": "stream",
     "text": [
      "📋 Summary Table: Null Counts per Column\n",
      "Column  Null Count Bar Displayed\n",
      "   Age           1           Yes\n",
      " Email           1           Yes\n",
      " Phone           1           Yes\n",
      "Salary           1           Yes\n",
      "  Name           0  No (0 nulls)\n"
     ]
    },
    {
     "name": "stderr",
     "output_type": "stream",
     "text": [
      "C:\\Users\\HP USER\\AppData\\Local\\Temp\\ipykernel_41868\\4248505409.py:26: FutureWarning: \n",
      "\n",
      "Passing `palette` without assigning `hue` is deprecated and will be removed in v0.14.0. Assign the `y` variable to `hue` and set `legend=False` for the same effect.\n",
      "\n",
      "  ax = sns.barplot(x=\"Null Count\", y=\"Column\", data=null_summary_df, palette=\"viridis\")\n"
     ]
    },
    {
     "data": {
      "image/png": "[encoded data removed]",
      "text/plain": [
       "<Figure size 1000x800 with 1 Axes>"
      ]
     },
     "metadata": {},
     "output_type": "display_data"
    }
   ],
   "source": [
    "# Visualizing null values is important because it helps us understand the extent of missing data in our dataset.\n",
    "# By identifying columns with high numbers of null values, we can prioritize data cleaning and imputation efforts.\n",
    "\n",
    "import matplotlib.pyplot as plt\n",
    "import seaborn as sns\n",
    "import os\n",
    "import pandas as pd\n",
    "\n",
    "# Create directory if it doesn't exist, without raising an error if it already exists.\n",
    "plot_dir = \"EDA_Plots\"\n",
    "os.makedirs(plot_dir, exist_ok=True)\n",
    "\n",
    "# Count of null values\n",
    "null_counts = df.isnull().sum()\n",
    "\n",
    "# Convert to DataFrame for summary table\n",
    "null_summary_df = pd.DataFrame({\n",
    "    'Column': null_counts.index,\n",
    "    'Null Count': null_counts.values,\n",
    "    'Bar Displayed': ['Yes' if count > 0 else 'No (0 nulls)' for count in null_counts.values]\n",
    "}).sort_values(by='Null Count', ascending=False)\n",
    "\n",
    "# Display summary table\n",
    "print(\"📋 Summary Table: Null Counts per Column\")\n",
    "print(null_summary_df.to_string(index=False))\n",
    "\n",
    "# Plot\n",
    "plt.figure(figsize=(10, 8))\n",
    "ax = sns.barplot(x=\"Null Count\", y=\"Column\", data=null_summary_df, palette=\"viridis\")\n",
    "\n",
    "# Add text labels to bars (including 0)\n",
    "for index, row in null_summary_df.iterrows():\n",
    "    ax.text(row[\"Null Count\"] + 0.1, index, str(row[\"Null Count\"]), va='center')\n",
    "\n",
    "# Force y-axis to show all columns\n",
    "ax.set_yticks(range(len(null_summary_df)))\n",
    "ax.set_yticklabels(null_summary_df[\"Column\"])\n",
    "\n",
    "plt.title(\"Null Values per Column\")\n",
    "plt.xlabel(\"Count of Nulls\")\n",
    "plt.ylabel(\"Columns\")\n",
    "plt.tight_layout()\n",
    "\n",
    "# Save plot\n",
    "plot_path = os.path.join(plot_dir, \"null_values_barplot.png\")\n",
    "plt.savefig(plot_path)\n",
    "plt.show()\n"
   ]
  },
  {
   "cell_type": "markdown",
   "id": "83fc92c0-a46d-426d-8baa-ba828cc7d1f7",
   "metadata": {},
   "source": [
    "# 3.2: Inspect Current Email and Phone Columns\n",
    "The plan is to look at a few samples, then use regex to:\n",
    "\n",
    "Validate format\n",
    "\n",
    "Flag invalid entries\n",
    "\n",
    "Replace clearly invalid formats with NaN"
   ]
  },
  {
   "cell_type": "code",
   "execution_count": 57,
   "id": "9522e5c9-bb83-4497-9d26-0fcd9310e6ef",
   "metadata": {},
   "outputs": [],
   "source": [
    "# Validate email and phone numbers to ensure they conform to expected formats\n",
    "import re\n",
    "import numpy as np\n",
    "\n",
    "# Copy original columns for comparison later\n",
    "df['Email_Original'] = df['Email']\n",
    "df['Phone_Original'] = df['Phone']\n",
    "\n",
    "# EMAIL CLEANING\n",
    "# Define a regex pattern for valid emails\n",
    "# This pattern matches most common email formats, including:\n",
    "# - Local part (before @): letters, numbers, dots, underscores, hyphens\n",
    "# - Domain: letters, numbers, dots, hyphens\n",
    "# - Top-level domain: letters (e.g., .com, .org, .net)\n",
    "email_pattern = r'^[\\w\\.-]+@[\\w\\.-]+\\.\\w+$'\n",
    "\n",
    "# Create new columns to store validation results\n",
    "# We're creating separate columns to track validity, rather than overwriting the original columns,\n",
    "# to preserve the original data and allow for further analysis of invalid values.\n",
    "\n",
    "# Apply regex to validate emails\n",
    "df['Email_Valid'] = df['Email'].apply(lambda x: bool(re.match(email_pattern, str(x).strip())) if pd.notnull(x) else False)\n",
    "df['Email'] = df.apply(lambda row: row['Email'] if row['Email_Valid'] else np.nan, axis=1)\n",
    "\n",
    "# PHONE CLEANING\n",
    "# Define regex pattern for valid phone numbers\n",
    "# This pattern matches phone numbers with:\n",
    "# - Optional + symbol at the start\n",
    "# - 10 or more digits, allowing for spaces, dashes, and parentheses\n",
    "phone_pattern = r'^\\+?[\\d\\s\\-\\(\\)]{10,}$'\n",
    "\n",
    "# Apply regex to validate phones\n",
    "df['Phone_Valid'] = df['Phone'].apply(lambda x: bool(re.match(phone_pattern, str(x).strip())) if pd.notnull(x) else False)\n",
    "df['Phone'] = df.apply(lambda row: row['Phone'] if row['Phone_Valid'] else np.nan, axis=1)\n"
   ]
  },
  {
   "cell_type": "markdown",
   "id": "b18a0105-dabe-431f-8276-2ab8dd3f0b5e",
   "metadata": {},
   "source": [
    "#### ✅ Email Validity Summary\n",
    "\n",
    "| Status  | Count |\n",
    "|---------|-------|\n",
    "| Valid   | X     |\n",
    "| Invalid | Y     |\n",
    "\n",
    "#### ✅ Phone Validity Summary\n",
    "\n",
    "| Status  | Count |\n",
    "|---------|-------|\n",
    "| Valid   | A     |\n",
    "| Invalid | B     |\n"
   ]
  },
  {
   "cell_type": "markdown",
   "id": "3af34640-8e1a-477c-9603-3cb58057b3e1",
   "metadata": {},
   "source": [
    "# 3.3: Validate and clean emails and phone numbers\t\n",
    "\n",
    "Use regex to detect invalid entries, replace invalid ones with NaN. Count valid/invalid → barplot PNG."
   ]
  },
  {
   "cell_type": "code",
   "execution_count": 62,
   "id": "043949e8-7fdf-4cc7-96d8-67961d4babec",
   "metadata": {},
   "outputs": [
    {
     "name": "stdout",
     "output_type": "stream",
     "text": [
      "Collecting tabulateNote: you may need to restart the kernel to use updated packages.\n"
     ]
    },
    {
     "name": "stderr",
     "output_type": "stream",
     "text": [
      "  WARNING: The script tabulate.exe is installed in 'C:\\Users\\HP USER\\anaconda3\\envs\\geopandas_env\\Scripts' which is not on PATH."
     ]
    },
    {
     "name": "stdout",
     "output_type": "stream",
     "text": [
      "\n",
      "  Downloading tabulate-0.9.0-py3-none-any.whl.metadata (34 kB)\n",
      "Downloading tabulate-0.9.0-py3-none-any.whl (35 kB)\n",
      "Installing collected packages: tabulate\n",
      "Successfully installed tabulate-0.9.0\n"
     ]
    },
    {
     "name": "stderr",
     "output_type": "stream",
     "text": [
      "\n",
      "  Consider adding this directory to PATH or, if you prefer to suppress this warning, use --no-warn-script-location.\n"
     ]
    }
   ],
   "source": [
    "pip install tabulate"
   ]
  },
  {
   "cell_type": "code",
   "execution_count": 22,
   "id": "8b2883e3-9dae-4357-a6a1-d79cd53fa8af",
   "metadata": {},
   "outputs": [
    {
     "name": "stderr",
     "output_type": "stream",
     "text": [
      "C:\\Users\\HP USER\\AppData\\Local\\Temp\\ipykernel_28228\\205666232.py:42: FutureWarning: \n",
      "\n",
      "Passing `palette` without assigning `hue` is deprecated and will be removed in v0.14.0. Assign the `x` variable to `hue` and set `legend=False` for the same effect.\n",
      "\n",
      "  sns.barplot(x=email_valid_counts.index.map({True: 'Valid', False: 'Invalid'}), y=email_valid_counts.values, palette='coolwarm')\n"
     ]
    },
    {
     "data": {
      "image/png": "[encoded data removed]",
      "text/plain": [
       "<Figure size 600x400 with 1 Axes>"
      ]
     },
     "metadata": {},
     "output_type": "display_data"
    },
    {
     "name": "stdout",
     "output_type": "stream",
     "text": [
      "\n",
      "📊 Email Validity Table:\n",
      "| Status   |   Count |\n",
      "|:---------|--------:|\n",
      "| Valid    |     610 |\n",
      "| Invalid  |     390 |\n"
     ]
    },
    {
     "name": "stderr",
     "output_type": "stream",
     "text": [
      "C:\\Users\\HP USER\\AppData\\Local\\Temp\\ipykernel_28228\\205666232.py:60: FutureWarning: \n",
      "\n",
      "Passing `palette` without assigning `hue` is deprecated and will be removed in v0.14.0. Assign the `x` variable to `hue` and set `legend=False` for the same effect.\n",
      "\n",
      "  sns.barplot(x=phone_valid_counts.index.map({True: 'Valid', False: 'Invalid'}), y=phone_valid_counts.values, palette='coolwarm')\n"
     ]
    },
    {
     "data": {
      "image/png": "[encoded data removed]",
      "text/plain": [
       "<Figure size 600x400 with 1 Axes>"
      ]
     },
     "metadata": {},
     "output_type": "display_data"
    },
    {
     "name": "stdout",
     "output_type": "stream",
     "text": [
      "\n",
      "📊 Phone Validity Table:\n",
      "| Status   |   Count |\n",
      "|:---------|--------:|\n",
      "| Valid    |     624 |\n",
      "| Invalid  |     376 |\n"
     ]
    }
   ],
   "source": [
    "# Using the messy data in the dataframe set insead of the cleaned data \n",
    "\n",
    "import pandas as pd\n",
    "import re\n",
    "import os\n",
    "import matplotlib.pyplot as plt\n",
    "import seaborn as sns\n",
    "\n",
    "# Load the partially prepared dataset\n",
    "df = pd.read_csv('messy_hr.csv')\n",
    "\n",
    "# Function to validate email\n",
    "def validate_email(email):\n",
    "    if pd.isnull(email):\n",
    "        return False\n",
    "    pattern = r\"^[a-zA-Z0-9_.+-]+@[a-zA-Z0-9-]+\\.[a-zA-Z0-9-.]+$\"\n",
    "    return bool(re.match(pattern, email))\n",
    "\n",
    "# Function to validate phone number\n",
    "def validate_phone(phone):\n",
    "    if pd.isnull(phone):\n",
    "        return False\n",
    "    # Remove non-digit characters before validation\n",
    "    phone = re.sub(r'\\D+', '', str(phone))\n",
    "    pattern = r\"^\\d{10}$\"  # Assuming 10-digit phone number\n",
    "    return bool(re.match(pattern, phone))\n",
    "\n",
    "# Apply validation functions\n",
    "df['Email_Valid'] = df['Email'].apply(validate_email)\n",
    "df['Phone_Valid'] = df['Phone Number'].apply(validate_phone)\n",
    "\n",
    "# Now you can perform value counts\n",
    "email_valid_counts = df['Email_Valid'].value_counts()\n",
    "phone_valid_counts = df['Phone_Valid'].value_counts()\n",
    "\n",
    "# Create EDA_Plots folder if not exist\n",
    "plot_dir = \"EDA_Plots\"\n",
    "os.makedirs(plot_dir, exist_ok=True)\n",
    "\n",
    "# Plot for Email Validity\n",
    "plt.figure(figsize=(6, 4))\n",
    "sns.barplot(x=email_valid_counts.index.map({True: 'Valid', False: 'Invalid'}), y=email_valid_counts.values, palette='coolwarm')\n",
    "plt.title(\"Email Validity\")\n",
    "plt.ylabel(\"Count\")\n",
    "plt.xlabel(\"Email Status\")\n",
    "plt.tight_layout()\n",
    "plt.savefig(os.path.join(plot_dir, \"email_validity_messy.png\"))\n",
    "plt.show()\n",
    "\n",
    "# Summary table - Email\n",
    "email_summary = pd.DataFrame({\n",
    "    \"Status\": ['Valid', 'Invalid'],\n",
    "    \"Count\": [email_valid_counts.get(True, 0), email_valid_counts.get(False, 0)]\n",
    "})\n",
    "print(\"\\n📊 Email Validity Table:\")\n",
    "print(email_summary.to_markdown(index=False))\n",
    "\n",
    "# Plot for Phone Validity\n",
    "plt.figure(figsize=(6, 4))\n",
    "sns.barplot(x=phone_valid_counts.index.map({True: 'Valid', False: 'Invalid'}), y=phone_valid_counts.values, palette='coolwarm')\n",
    "plt.title(\"Phone Validity\")\n",
    "plt.ylabel(\"Count\")\n",
    "plt.xlabel(\"Phone Status\")\n",
    "plt.tight_layout()\n",
    "plt.savefig(os.path.join(plot_dir, \"phone_validity_messy.png\"))\n",
    "plt.show()\n",
    "\n",
    "# Summary table - Phone\n",
    "phone_summary = pd.DataFrame({\n",
    "    \"Status\": ['Valid', 'Invalid'],\n",
    "    \"Count\": [phone_valid_counts.get(True, 0), phone_valid_counts.get(False, 0)]\n",
    "})\n",
    "print(\"\\n📊 Phone Validity Table:\")\n",
    "print(phone_summary.to_markdown(index=False))\n"
   ]
  },
  {
   "cell_type": "code",
   "execution_count": 27,
   "id": "144979cb-67a6-43de-a15e-ab22078485c1",
   "metadata": {},
   "outputs": [
    {
     "data": {
      "text/plain": [
       "6      NaN\n",
       "7      NaN\n",
       "9      NaN\n",
       "10     NaN\n",
       "11     NaN\n",
       "      ... \n",
       "991    NaN\n",
       "993    NaN\n",
       "994    NaN\n",
       "995    NaN\n",
       "996    NaN\n",
       "Name: Email, Length: 390, dtype: object"
      ]
     },
     "execution_count": 27,
     "metadata": {},
     "output_type": "execute_result"
    }
   ],
   "source": [
    "df[df['Email_Valid'] == False]['Email']"
   ]
  },
  {
   "cell_type": "code",
   "execution_count": 29,
   "id": "9a175f32-a210-44b3-bf6d-27a22a540d26",
   "metadata": {},
   "outputs": [
    {
     "data": {
      "text/plain": [
       "0      NaN\n",
       "3         \n",
       "5      NaN\n",
       "7         \n",
       "9         \n",
       "      ... \n",
       "990       \n",
       "991    NaN\n",
       "994    NaN\n",
       "997    NaN\n",
       "998    NaN\n",
       "Name: Phone Number, Length: 376, dtype: object"
      ]
     },
     "execution_count": 29,
     "metadata": {},
     "output_type": "execute_result"
    }
   ],
   "source": [
    "df[df['Phone_Valid'] == False]['Phone Number']"
   ]
  },
  {
   "cell_type": "code",
   "execution_count": 24,
   "id": "7b036066-72fa-44de-930c-e2146924cbea",
   "metadata": {},
   "outputs": [
    {
     "name": "stderr",
     "output_type": "stream",
     "text": [
      "C:\\Users\\HP USER\\AppData\\Local\\Temp\\ipykernel_28228\\2884691084.py:41: FutureWarning: \n",
      "\n",
      "Passing `palette` without assigning `hue` is deprecated and will be removed in v0.14.0. Assign the `x` variable to `hue` and set `legend=False` for the same effect.\n",
      "\n",
      "  sns.barplot(x=email_valid_counts.index.map({True: 'Valid', False: 'Invalid'}), y=email_valid_counts.values, palette='coolwarm')\n"
     ]
    },
    {
     "data": {
      "image/png": "[encoded data removed]",
      "text/plain": [
       "<Figure size 600x400 with 1 Axes>"
      ]
     },
     "metadata": {},
     "output_type": "display_data"
    },
    {
     "name": "stdout",
     "output_type": "stream",
     "text": [
      "\n",
      "📊 Email Validity Table-1:\n",
      "| Status   |   Count |\n",
      "|:---------|--------:|\n",
      "| Valid    |     610 |\n",
      "| Invalid  |     390 |\n"
     ]
    },
    {
     "name": "stderr",
     "output_type": "stream",
     "text": [
      "C:\\Users\\HP USER\\AppData\\Local\\Temp\\ipykernel_28228\\2884691084.py:59: FutureWarning: \n",
      "\n",
      "Passing `palette` without assigning `hue` is deprecated and will be removed in v0.14.0. Assign the `x` variable to `hue` and set `legend=False` for the same effect.\n",
      "\n",
      "  sns.barplot(x=phone_valid_counts.index.map({True: 'Valid', False: 'Invalid'}), y=phone_valid_counts.values, palette='coolwarm')\n"
     ]
    },
    {
     "data": {
      "image/png": "[encoded data removed]",
      "text/plain": [
       "<Figure size 600x400 with 1 Axes>"
      ]
     },
     "metadata": {},
     "output_type": "display_data"
    },
    {
     "name": "stdout",
     "output_type": "stream",
     "text": [
      "\n",
      "📊 Phone Validity Table-1:\n",
      "| Status   |   Count |\n",
      "|:---------|--------:|\n",
      "| Valid    |     624 |\n",
      "| Invalid  |     376 |\n"
     ]
    }
   ],
   "source": [
    "# Using the cleaned data set insead of the messy data in the dataframe\n",
    "import pandas as pd\n",
    "import re\n",
    "import os\n",
    "import matplotlib.pyplot as plt\n",
    "import seaborn as sns\n",
    "\n",
    "# Load the partially prepared dataset\n",
    "df = pd.read_csv('cleaned_hr_data.csv')\n",
    "\n",
    "# Function to validate email\n",
    "def validate_email(email):\n",
    "    if pd.isnull(email):\n",
    "        return False\n",
    "    pattern = r\"^[a-zA-Z0-9_.+-]+@[a-zA-Z0-9-]+\\.[a-zA-Z0-9-.]+$\"\n",
    "    return bool(re.match(pattern, email))\n",
    "\n",
    "# Function to validate phone number\n",
    "def validate_phone(phone):\n",
    "    if pd.isnull(phone):\n",
    "        return False\n",
    "    # Remove non-digit characters before validation\n",
    "    phone = re.sub(r'\\D+', '', str(phone))\n",
    "    pattern = r\"^\\d{10}$\"  # Assuming 10-digit phone number\n",
    "    return bool(re.match(pattern, phone))\n",
    "\n",
    "# Apply validation functions\n",
    "df['Email_Valid'] = df['Email'].apply(validate_email)\n",
    "df['Phone_Valid'] = df['Phone Number'].apply(validate_phone)\n",
    "\n",
    "# Now you can perform value counts\n",
    "email_valid_counts = df['Email_Valid'].value_counts()\n",
    "phone_valid_counts = df['Phone_Valid'].value_counts()\n",
    "\n",
    "# Create EDA_Plots folder if not exist\n",
    "plot_dir = \"EDA_Plots\"\n",
    "os.makedirs(plot_dir, exist_ok=True)\n",
    "\n",
    "# Plot for Email Validity\n",
    "plt.figure(figsize=(6, 4))\n",
    "sns.barplot(x=email_valid_counts.index.map({True: 'Valid', False: 'Invalid'}), y=email_valid_counts.values, palette='coolwarm')\n",
    "plt.title(\"Email Validity\")\n",
    "plt.ylabel(\"Count\")\n",
    "plt.xlabel(\"Email Status\")\n",
    "plt.tight_layout()\n",
    "plt.savefig(os.path.join(plot_dir, \"email_validity.png\"))\n",
    "plt.show()\n",
    "\n",
    "# Summary table - Email\n",
    "email_summary = pd.DataFrame({\n",
    "    \"Status\": ['Valid', 'Invalid'],\n",
    "    \"Count\": [email_valid_counts.get(True, 0), email_valid_counts.get(False, 0)]\n",
    "})\n",
    "print(\"\\n📊 Email Validity Table-1:\")\n",
    "print(email_summary.to_markdown(index=False))\n",
    "\n",
    "# Plot for Phone Validity\n",
    "plt.figure(figsize=(6, 4))\n",
    "sns.barplot(x=phone_valid_counts.index.map({True: 'Valid', False: 'Invalid'}), y=phone_valid_counts.values, palette='coolwarm')\n",
    "plt.title(\"Phone Validity\")\n",
    "plt.ylabel(\"Count\")\n",
    "plt.xlabel(\"Phone Status\")\n",
    "plt.tight_layout()\n",
    "plt.savefig(os.path.join(plot_dir, \"phone_validity.png\"))\n",
    "plt.show()\n",
    "\n",
    "# Summary table - Phone\n",
    "phone_summary = pd.DataFrame({\n",
    "    \"Status\": ['Valid', 'Invalid'],\n",
    "    \"Count\": [phone_valid_counts.get(True, 0), phone_valid_counts.get(False, 0)]\n",
    "})\n",
    "print(\"\\n📊 Phone Validity Table-1:\")\n",
    "print(phone_summary.to_markdown(index=False))\n"
   ]
  },
  {
   "cell_type": "code",
   "execution_count": 35,
   "id": "8399b182-ba1e-41de-9371-51d46a398437",
   "metadata": {},
   "outputs": [
    {
     "data": {
      "text/plain": [
       "3       \n",
       "7       \n",
       "9       \n",
       "12      \n",
       "17      \n",
       "      ..\n",
       "979     \n",
       "980     \n",
       "984     \n",
       "988     \n",
       "990     \n",
       "Name: Phone Number, Length: 191, dtype: object"
      ]
     },
     "execution_count": 35,
     "metadata": {},
     "output_type": "execute_result"
    }
   ],
   "source": [
    "df[df['Phone_Valid'] == False]['Phone Number']"
   ]
  },
  {
   "cell_type": "code",
   "execution_count": 37,
   "id": "1861d4d5-6c7d-48c6-a147-d0ab33a6255b",
   "metadata": {},
   "outputs": [
    {
     "name": "stdout",
     "output_type": "stream",
     "text": [
      "3       \n",
      "7       \n",
      "9       \n",
      "12      \n",
      "17      \n",
      "      ..\n",
      "979     \n",
      "980     \n",
      "984     \n",
      "988     \n",
      "990     \n",
      "Name: Phone Number, Length: 191, dtype: object\n"
     ]
    }
   ],
   "source": [
    "invalid_phone_numbers = df[df['Phone_Valid'] == False]['Phone Number']\n",
    "print(invalid_phone_numbers)\n"
   ]
  },
  {
   "cell_type": "code",
   "execution_count": 41,
   "id": "299c52bf-8477-4ece-ae1f-df6f640799c9",
   "metadata": {},
   "outputs": [
    {
     "name": "stdout",
     "output_type": "stream",
     "text": [
      "Email\n",
      "example.com    598\n",
      "domain.com     213\n",
      "company.org    189\n",
      "Name: count, dtype: int64\n"
     ]
    }
   ],
   "source": [
    "email_domain_counts = df['Email'].str.split('@').str[1].value_counts()\n",
    "print(email_domain_counts)\n"
   ]
  },
  {
   "cell_type": "code",
   "execution_count": 45,
   "id": "3b66c03e-7058-4d0e-895f-9d5934e84baa",
   "metadata": {},
   "outputs": [
    {
     "name": "stdout",
     "output_type": "stream",
     "text": [
      "390\n"
     ]
    }
   ],
   "source": [
    "missing_example_emails = df[df['Email'] == 'missing@example.com']\n",
    "print(missing_example_emails.shape[0])"
   ]
  },
  {
   "cell_type": "code",
   "execution_count": 32,
   "id": "f6273619-56d1-42c9-9d22-313c67d31ec7",
   "metadata": {
    "scrolled": true
   },
   "outputs": [
    {
     "name": "stderr",
     "output_type": "stream",
     "text": [
      "C:\\Users\\HP USER\\AppData\\Local\\Temp\\ipykernel_13856\\142766111.py:41: FutureWarning: \n",
      "\n",
      "Passing `palette` without assigning `hue` is deprecated and will be removed in v0.14.0. Assign the `x` variable to `hue` and set `legend=False` for the same effect.\n",
      "\n",
      "  sns.barplot(x=email_valid_counts.index.map({True: 'Valid', False: 'Invalid'}), y=email_valid_counts.values, palette='coolwarm')\n"
     ]
    },
    {
     "data": {
      "image/png": "[encoded data removed]",
      "text/plain": [
       "<Figure size 600x400 with 1 Axes>"
      ]
     },
     "metadata": {},
     "output_type": "display_data"
    },
    {
     "name": "stdout",
     "output_type": "stream",
     "text": [
      "\n",
      "📊 Email Validity Table-2:\n",
      "| Status   |   Count |\n",
      "|:---------|--------:|\n",
      "| Valid    |     410 |\n",
      "| Invalid  |     255 |\n"
     ]
    },
    {
     "name": "stderr",
     "output_type": "stream",
     "text": [
      "C:\\Users\\HP USER\\AppData\\Local\\Temp\\ipykernel_13856\\142766111.py:59: FutureWarning: \n",
      "\n",
      "Passing `palette` without assigning `hue` is deprecated and will be removed in v0.14.0. Assign the `x` variable to `hue` and set `legend=False` for the same effect.\n",
      "\n",
      "  sns.barplot(x=phone_valid_counts.index.map({True: 'Valid', False: 'Invalid'}), y=phone_valid_counts.values, palette='coolwarm')\n"
     ]
    },
    {
     "data": {
      "image/png": "[encoded data removed]",
      "text/plain": [
       "<Figure size 600x400 with 1 Axes>"
      ]
     },
     "metadata": {},
     "output_type": "display_data"
    },
    {
     "name": "stdout",
     "output_type": "stream",
     "text": [
      "\n",
      "📊 Phone Validity Table-2:\n",
      "| Status   |   Count |\n",
      "|:---------|--------:|\n",
      "| Valid    |     418 |\n",
      "| Invalid  |     247 |\n"
     ]
    }
   ],
   "source": [
    "# Using the further cleaned data set in the dataframe\n",
    "import pandas as pd\n",
    "import re\n",
    "import os\n",
    "import matplotlib.pyplot as plt\n",
    "import seaborn as sns\n",
    "\n",
    "# Load the partially prepared dataset\n",
    "df = pd.read_csv('cleaned_hr_data_v2.csv')\n",
    "\n",
    "# Function to validate email\n",
    "def validate_email(email):\n",
    "    if pd.isnull(email):\n",
    "        return False\n",
    "    pattern = r\"^[a-zA-Z0-9_.+-]+@[a-zA-Z0-9-]+\\.[a-zA-Z0-9-.]+$\"\n",
    "    return bool(re.match(pattern, email))\n",
    "\n",
    "# Function to validate phone number\n",
    "def validate_phone(phone):\n",
    "    if pd.isnull(phone):\n",
    "        return False\n",
    "    # Remove non-digit characters before validation\n",
    "    phone = re.sub(r'\\D+', '', str(phone))\n",
    "    pattern = r\"^\\d{10}$\"  # Assuming 10-digit phone number\n",
    "    return bool(re.match(pattern, phone))\n",
    "\n",
    "# Apply validation functions\n",
    "df['Email_Valid'] = df['Email'].apply(validate_email)\n",
    "df['Phone_Valid'] = df['Phone Number'].apply(validate_phone)\n",
    "\n",
    "# Now you can perform value counts\n",
    "email_valid_counts = df['Email_Valid'].value_counts()\n",
    "phone_valid_counts = df['Phone_Valid'].value_counts()\n",
    "\n",
    "# Create EDA_Plots folder if not exist\n",
    "plot_dir = \"EDA_Plots\"\n",
    "os.makedirs(plot_dir, exist_ok=True)\n",
    "\n",
    "# Plot for Email Validity\n",
    "plt.figure(figsize=(6, 4))\n",
    "sns.barplot(x=email_valid_counts.index.map({True: 'Valid', False: 'Invalid'}), y=email_valid_counts.values, palette='coolwarm')\n",
    "plt.title(\"Email Validity\")\n",
    "plt.ylabel(\"Count\")\n",
    "plt.xlabel(\"Email Status\")\n",
    "plt.tight_layout()\n",
    "plt.savefig(os.path.join(plot_dir, \"email_validity_v2.png\"))\n",
    "plt.show()\n",
    "\n",
    "# Summary table - Email\n",
    "email_summary = pd.DataFrame({\n",
    "    \"Status\": ['Valid', 'Invalid'],\n",
    "    \"Count\": [email_valid_counts.get(True, 0), email_valid_counts.get(False, 0)]\n",
    "})\n",
    "print(\"\\n📊 Email Validity Table-2:\")\n",
    "print(email_summary.to_markdown(index=False))\n",
    "\n",
    "# Plot for Phone Validity\n",
    "plt.figure(figsize=(6, 4))\n",
    "sns.barplot(x=phone_valid_counts.index.map({True: 'Valid', False: 'Invalid'}), y=phone_valid_counts.values, palette='coolwarm')\n",
    "plt.title(\"Phone Validity\")\n",
    "plt.ylabel(\"Count\")\n",
    "plt.xlabel(\"Phone Status\")\n",
    "plt.tight_layout()\n",
    "plt.savefig(os.path.join(plot_dir, \"phone_validity_v2.png\"))\n",
    "plt.show()\n",
    "\n",
    "# Summary table - Phone\n",
    "phone_summary = pd.DataFrame({\n",
    "    \"Status\": ['Valid', 'Invalid'],\n",
    "    \"Count\": [phone_valid_counts.get(True, 0), phone_valid_counts.get(False, 0)]\n",
    "})\n",
    "print(\"\\n📊 Phone Validity Table-2:\")\n",
    "print(phone_summary.to_markdown(index=False))"
   ]
  },
  {
   "cell_type": "code",
   "execution_count": 26,
   "id": "190fe6a6-ea7f-4f7a-979a-a77062a1012d",
   "metadata": {},
   "outputs": [
    {
     "name": "stdout",
     "output_type": "stream",
     "text": [
      "\n",
      "📊 Analyzing messy_hr.csv...\n"
     ]
    },
    {
     "name": "stderr",
     "output_type": "stream",
     "text": [
      "C:\\Users\\HP USER\\AppData\\Local\\Temp\\ipykernel_28228\\2556763169.py:50: FutureWarning: \n",
      "\n",
      "Passing `palette` without assigning `hue` is deprecated and will be removed in v0.14.0. Assign the `x` variable to `hue` and set `legend=False` for the same effect.\n",
      "\n",
      "  sns.barplot(x=email_valid_counts.index.map({True: 'Valid', False: 'Invalid'}), y=email_valid_counts.values, palette='coolwarm')\n"
     ]
    },
    {
     "data": {
      "image/png": "[encoded data removed]",
      "text/plain": [
       "<Figure size 600x400 with 1 Axes>"
      ]
     },
     "metadata": {},
     "output_type": "display_data"
    },
    {
     "name": "stdout",
     "output_type": "stream",
     "text": [
      "\n",
      "📊 Email Validity Table - messy_hr:\n",
      "| Status   |   Count |\n",
      "|:---------|--------:|\n",
      "| Valid    |     610 |\n",
      "| Invalid  |     390 |\n"
     ]
    },
    {
     "name": "stderr",
     "output_type": "stream",
     "text": [
      "C:\\Users\\HP USER\\AppData\\Local\\Temp\\ipykernel_28228\\2556763169.py:69: FutureWarning: \n",
      "\n",
      "Passing `palette` without assigning `hue` is deprecated and will be removed in v0.14.0. Assign the `x` variable to `hue` and set `legend=False` for the same effect.\n",
      "\n",
      "  sns.barplot(x=phone_valid_counts.index.map({True: 'Valid', False: 'Invalid'}), y=phone_valid_counts.values, palette='coolwarm')\n"
     ]
    },
    {
     "data": {
      "image/png": "[encoded data removed]",
      "text/plain": [
       "<Figure size 600x400 with 1 Axes>"
      ]
     },
     "metadata": {},
     "output_type": "display_data"
    },
    {
     "name": "stdout",
     "output_type": "stream",
     "text": [
      "\n",
      "📊 Phone Validity Table - messy_hr:\n",
      "| Status   |   Count |\n",
      "|:---------|--------:|\n",
      "| Valid    |     624 |\n",
      "| Invalid  |     376 |\n",
      "\n",
      "📊 Analyzing cleaned_hr_data.csv...\n"
     ]
    },
    {
     "name": "stderr",
     "output_type": "stream",
     "text": [
      "C:\\Users\\HP USER\\AppData\\Local\\Temp\\ipykernel_28228\\2556763169.py:50: FutureWarning: \n",
      "\n",
      "Passing `palette` without assigning `hue` is deprecated and will be removed in v0.14.0. Assign the `x` variable to `hue` and set `legend=False` for the same effect.\n",
      "\n",
      "  sns.barplot(x=email_valid_counts.index.map({True: 'Valid', False: 'Invalid'}), y=email_valid_counts.values, palette='coolwarm')\n"
     ]
    },
    {
     "data": {
      "image/png": "[encoded data removed]",
      "text/plain": [
       "<Figure size 600x400 with 1 Axes>"
      ]
     },
     "metadata": {},
     "output_type": "display_data"
    },
    {
     "name": "stderr",
     "output_type": "stream",
     "text": [
      "C:\\Users\\HP USER\\AppData\\Local\\Temp\\ipykernel_28228\\2556763169.py:69: FutureWarning: \n",
      "\n",
      "Passing `palette` without assigning `hue` is deprecated and will be removed in v0.14.0. Assign the `x` variable to `hue` and set `legend=False` for the same effect.\n",
      "\n",
      "  sns.barplot(x=phone_valid_counts.index.map({True: 'Valid', False: 'Invalid'}), y=phone_valid_counts.values, palette='coolwarm')\n"
     ]
    },
    {
     "name": "stdout",
     "output_type": "stream",
     "text": [
      "\n",
      "📊 Email Validity Table - cleaned_hr_data:\n",
      "| Status   |   Count |\n",
      "|:---------|--------:|\n",
      "| Valid    |     610 |\n",
      "| Invalid  |     390 |\n"
     ]
    },
    {
     "data": {
      "image/png": "[encoded data removed]",
      "text/plain": [
       "<Figure size 600x400 with 1 Axes>"
      ]
     },
     "metadata": {},
     "output_type": "display_data"
    },
    {
     "name": "stdout",
     "output_type": "stream",
     "text": [
      "\n",
      "📊 Phone Validity Table - cleaned_hr_data:\n",
      "| Status   |   Count |\n",
      "|:---------|--------:|\n",
      "| Valid    |     624 |\n",
      "| Invalid  |     376 |\n",
      "\n",
      "📊 Analyzing cleaned_hr_data_v2.csv...\n"
     ]
    },
    {
     "name": "stderr",
     "output_type": "stream",
     "text": [
      "C:\\Users\\HP USER\\AppData\\Local\\Temp\\ipykernel_28228\\2556763169.py:50: FutureWarning: \n",
      "\n",
      "Passing `palette` without assigning `hue` is deprecated and will be removed in v0.14.0. Assign the `x` variable to `hue` and set `legend=False` for the same effect.\n",
      "\n",
      "  sns.barplot(x=email_valid_counts.index.map({True: 'Valid', False: 'Invalid'}), y=email_valid_counts.values, palette='coolwarm')\n"
     ]
    },
    {
     "data": {
      "image/png": "[encoded data removed]",
      "text/plain": [
       "<Figure size 600x400 with 1 Axes>"
      ]
     },
     "metadata": {},
     "output_type": "display_data"
    },
    {
     "name": "stdout",
     "output_type": "stream",
     "text": [
      "\n",
      "📊 Email Validity Table - cleaned_hr_data_v2:\n",
      "| Status   |   Count |\n",
      "|:---------|--------:|\n",
      "| Valid    |     410 |\n",
      "| Invalid  |     255 |\n"
     ]
    },
    {
     "name": "stderr",
     "output_type": "stream",
     "text": [
      "C:\\Users\\HP USER\\AppData\\Local\\Temp\\ipykernel_28228\\2556763169.py:69: FutureWarning: \n",
      "\n",
      "Passing `palette` without assigning `hue` is deprecated and will be removed in v0.14.0. Assign the `x` variable to `hue` and set `legend=False` for the same effect.\n",
      "\n",
      "  sns.barplot(x=phone_valid_counts.index.map({True: 'Valid', False: 'Invalid'}), y=phone_valid_counts.values, palette='coolwarm')\n"
     ]
    },
    {
     "data": {
      "image/png": "[encoded data removed]",
      "text/plain": [
       "<Figure size 600x400 with 1 Axes>"
      ]
     },
     "metadata": {},
     "output_type": "display_data"
    },
    {
     "name": "stdout",
     "output_type": "stream",
     "text": [
      "\n",
      "📊 Phone Validity Table - cleaned_hr_data_v2:\n",
      "| Status   |   Count |\n",
      "|:---------|--------:|\n",
      "| Valid    |     418 |\n",
      "| Invalid  |     247 |\n"
     ]
    }
   ],
   "source": [
    "# Applying all data sets in the validating process in one code\n",
    "\n",
    "import pandas as pd\n",
    "import re\n",
    "import os\n",
    "import matplotlib.pyplot as plt\n",
    "import seaborn as sns\n",
    "\n",
    "# Function to validate email\n",
    "def validate_email(email):\n",
    "    if pd.isnull(email):\n",
    "        return False\n",
    "    pattern = r\"^[a-zA-Z0-9_.+-]+@[a-zA-Z0-9-]+\\.[a-zA-Z0-9-.]+$\"\n",
    "    return bool(re.match(pattern, email))\n",
    "\n",
    "# Function to validate phone number\n",
    "def validate_phone(phone):\n",
    "    if pd.isnull(phone):\n",
    "        return False\n",
    "    phone = re.sub(r'\\D+', '', str(phone))\n",
    "    pattern = r\"^\\d{10}$\"\n",
    "    return bool(re.match(pattern, phone))\n",
    "\n",
    "# List of datasets\n",
    "datasets = [\n",
    "    {'name': 'messy_hr', 'file': 'messy_hr.csv'},\n",
    "    {'name': 'cleaned_hr_data', 'file': 'cleaned_hr_data.csv'},\n",
    "    {'name': 'cleaned_hr_data_v2', 'file': 'cleaned_hr_data_v2.csv'}\n",
    "]\n",
    "\n",
    "plot_dir = \"EDA_Plots\"\n",
    "csv_dir = \"EDA_CSVs\"\n",
    "os.makedirs(plot_dir, exist_ok=True)\n",
    "os.makedirs(csv_dir, exist_ok=True)\n",
    "\n",
    "for dataset in datasets:\n",
    "    print(f\"\\n📊 Analyzing {dataset['file']}...\")\n",
    "    \n",
    "    # Load dataset\n",
    "    df = pd.read_csv(dataset['file'])\n",
    "    \n",
    "    # Apply validation functions\n",
    "    df['Email_Valid'] = df['Email'].apply(validate_email)\n",
    "    df['Phone_Valid'] = df['Phone Number'].apply(validate_phone)\n",
    "    \n",
    "    # Perform value counts\n",
    "    email_valid_counts = df['Email_Valid'].value_counts()\n",
    "    phone_valid_counts = df['Phone_Valid'].value_counts()\n",
    "    \n",
    "    # Plot for Email Validity\n",
    "    plt.figure(figsize=(6, 4))\n",
    "    sns.barplot(x=email_valid_counts.index.map({True: 'Valid', False: 'Invalid'}), y=email_valid_counts.values, palette='coolwarm')\n",
    "    plt.title(f\"Email Validity - {dataset['name']}\")\n",
    "    plt.ylabel(\"Count\")\n",
    "    plt.xlabel(\"Email Status\")\n",
    "    plt.tight_layout()\n",
    "    plt.savefig(os.path.join(plot_dir, f\"email_validity_{dataset['name']}.png\"))\n",
    "    plt.show()\n",
    "    \n",
    "    # Summary table - Email\n",
    "    email_summary = pd.DataFrame({\n",
    "        \"Status\": ['Valid', 'Invalid'],\n",
    "        \"Count\": [email_valid_counts.get(True, 0), email_valid_counts.get(False, 0)]\n",
    "    })\n",
    "    print(f\"\\n📊 Email Validity Table - {dataset['name']}:\")\n",
    "    print(email_summary.to_markdown(index=False))\n",
    "    email_summary.to_csv(os.path.join(csv_dir, f\"email_validity_{dataset['name']}.csv\"), index=False)\n",
    "    \n",
    "    # Plot for Phone Validity\n",
    "    plt.figure(figsize=(6, 4))\n",
    "    sns.barplot(x=phone_valid_counts.index.map({True: 'Valid', False: 'Invalid'}), y=phone_valid_counts.values, palette='coolwarm')\n",
    "    plt.title(f\"Phone Validity - {dataset['name']}\")\n",
    "    plt.ylabel(\"Count\")\n",
    "    plt.xlabel(\"Phone Status\")\n",
    "    plt.tight_layout()\n",
    "    plt.savefig(os.path.join(plot_dir, f\"phone_validity_{dataset['name']}.png\"))\n",
    "    plt.show()\n",
    "    \n",
    "    # Summary table - Phone\n",
    "    phone_summary = pd.DataFrame({\n",
    "        \"Status\": ['Valid', 'Invalid'],\n",
    "        \"Count\": [phone_valid_counts.get(True, 0), phone_valid_counts.get(False, 0)]\n",
    "    })\n",
    "    print(f\"\\n📊 Phone Validity Table - {dataset['name']}:\")\n",
    "    print(phone_summary.to_markdown(index=False))\n",
    "    phone_summary.to_csv(os.path.join(csv_dir, f\"phone_validity_{dataset['name']}.csv\"), index=False)"
   ]
  },
  {
   "cell_type": "code",
   "execution_count": 51,
   "id": "8cb3d3cf-f36c-4941-9404-1e27d49479b7",
   "metadata": {},
   "outputs": [],
   "source": [
    "# Map 'Performance Score' to numeric values\n",
    "performance_map = {'A': 5, 'B': 4, 'C': 3, 'D': 2, 'F': 1}\n",
    "df['Performance_Score_Numeric'] = df['Performance Score'].map(performance_map)\n",
    "\n",
    "# Select relevant columns\n",
    "cluster_df = df[['Age', 'Salary', 'Performance_Score_Numeric']]\n",
    "\n",
    "# Drop rows with missing values in the selected columns\n",
    "cluster_df = cluster_df.dropna()\n",
    "\n",
    "# Scale the data\n",
    "scaler = StandardScaler()\n",
    "scaled_data = scaler.fit_transform(cluster_df)\n",
    "\n",
    "# Perform KMeans clustering\n",
    "kmeans = KMeans(n_clusters=3, random_state=42)\n",
    "kmeans.fit(scaled_data)\n",
    "\n",
    "# Predict cluster labels\n",
    "df.loc[cluster_df.index, 'Cluster'] = kmeans.labels_\n"
   ]
  },
  {
   "cell_type": "markdown",
   "id": "d491e5be-5282-42ad-b059-1468e9a85e6c",
   "metadata": {},
   "source": [
    "# In this updated code:\n",
    "\n",
    "1. I map 'Performance Score' to numeric values using a dictionary.\n",
    "2. I select the relevant columns, including the new 'Performance_Score_Numeric' column.\n",
    "3. I drop rows with missing values in the selected columns.\n",
    "4. I scale the data and perform KMeans clustering as before.\n",
    "\n",
    "This should resolve the error and allow me to proceed with clustering. "
   ]
  },
  {
   "cell_type": "code",
   "execution_count": 55,
   "id": "7b261d9c-2254-4935-a704-cf204681dd0b",
   "metadata": {},
   "outputs": [
    {
     "name": "stdout",
     "output_type": "stream",
     "text": [
      "               Age        Salary  Performance_Score_Numeric\n",
      "Cluster                                                    \n",
      "0.0      31.776062  60057.915058                   1.474903\n",
      "1.0      47.092511  60947.136564                   3.132159\n",
      "2.0      31.521127  60098.591549                   4.115493\n",
      "               Age                              Salary                        \\\n",
      "              mean       std   min   max          mean          std      min   \n",
      "Cluster                                                                        \n",
      "0.0      31.776062  5.313071  25.0  40.0  60057.915058  6325.821108  50000.0   \n",
      "1.0      47.092511  4.551114  40.0  50.0  60947.136564  6592.220421  50000.0   \n",
      "2.0      31.521127  5.269192  25.0  40.0  60098.591549  6404.789278  50000.0   \n",
      "\n",
      "                 Performance_Score_Numeric                    \n",
      "             max                      mean       std min max  \n",
      "Cluster                                                       \n",
      "0.0      70000.0                  1.474903  0.500337   1   2  \n",
      "1.0      70000.0                  3.132159  1.244519   1   5  \n",
      "2.0      70000.0                  4.115493  0.767019   3   5  \n"
     ]
    }
   ],
   "source": [
    "print(df.groupby('Cluster')[['Age', 'Salary', 'Performance_Score_Numeric']].mean())\n",
    "\n",
    "cluster_summary = df.groupby('Cluster')[['Age', 'Salary', 'Performance_Score_Numeric']].agg(['mean', 'std', 'min', 'max'])\n",
    "print(cluster_summary)"
   ]
  },
  {
   "cell_type": "markdown",
   "id": "792d1323-df33-4a3f-ad86-ac5b67629429",
   "metadata": {},
   "source": [
    "# Based on the output, here are some observations about the clusters:\n",
    "\n",
    "1. Cluster 0.0: This cluster has a mean age of 31.78 years, a mean salary of 60,057.92, and a mean performance score of 1.47. The performance score is relatively low, indicating that employees in this cluster may need additional training or support.\n",
    "\n",
    "2. Cluster 1.0: This cluster has a mean age of 47.09 years, a mean salary of 60,947.14, and a mean performance score of 3.13. The age is relatively high, indicating that employees in this cluster may be more experienced. The performance score is moderate, indicating that employees in this cluster are performing reasonably well.\n",
    "\n",
    "3. Cluster 2.0: This cluster has a mean age of 31.52 years, a mean salary of 60,098.59, and a mean performance score of 4.12. The performance score is relatively high, indicating that employees in this cluster are high performers.\n",
    "\n",
    "Some potential insights from these clusters include:\n",
    "\n",
    "- Age and performance: Cluster 1.0 has a higher mean age and a moderate performance score, while Cluster 2.0 has a lower mean age and a higher performance score. This could indicate that younger employees are more likely to be high performers.\n",
    "- Salary and performance: The mean salaries across the three clusters are relatively similar, but the performance scores vary significantly. This could indicate that salary is not a strong predictor of performance.\n"
   ]
  },
  {
   "cell_type": "markdown",
   "id": "129e490b-b32f-4227-823f-00f3746e8ca0",
   "metadata": {},
   "source": [
    "# 3.4 Strip whitespaces in string fields: \n",
    "\n",
    "Use the .str.strip() method to remove leading and trailing whitespaces from relevant text fields.\n"
   ]
  },
  {
   "cell_type": "code",
   "execution_count": 33,
   "id": "e785196d-48d2-4d71-a418-4bcf885e239f",
   "metadata": {},
   "outputs": [],
   "source": [
    "# Strip whitespaces in string fields\n",
    "# Strip whitespaces from string columns to ensure consistency\n",
    "df['Name'] = df['Name'].str.strip()\n",
    "df['Department'] = df['Department'].str.strip()\n",
    "df['Position'] = df['Position'].str.strip()"
   ]
  },
  {
   "cell_type": "markdown",
   "id": "0ea2db78-6782-4d4e-b823-96075c953cdf",
   "metadata": {},
   "source": [
    "# 3.5 Handle placeholders (e.g., 'NAN'): \n",
    "\n",
    "Replace common invalid strings with np.nan to ensure consistency in handling missing values.\n"
   ]
  },
  {
   "cell_type": "code",
   "execution_count": 70,
   "id": "016df894-e530-4de0-8278-764f570f9bf0",
   "metadata": {},
   "outputs": [],
   "source": [
    "# Handle placeholders (e.g., 'NAN', 'missing@example.com')\n",
    "# Replace placeholders with np.nan to ensure consistency\n",
    "import numpy as np\n",
    "\n",
    "placeholders = ['NAN', 'nan', 'None', 'missing@example.com', '000-000-0000']\n",
    "for col in df.columns:\n",
    "    if df[col].dtype == 'object':\n",
    "        df[col] = df[col].replace(placeholders, np.nan)"
   ]
  },
  {
   "cell_type": "markdown",
   "id": "dad85b11-14cf-4bdb-8396-a3635d641bc8",
   "metadata": {},
   "source": [
    "# 3.6 Before/After sample tables: \n",
    "\n",
    "Create side-by-side DataFrames showing 5 rows before and after cleaning for columns like Age, Salary, Date, Email, and Phone.\n"
   ]
  },
  {
   "cell_type": "code",
   "execution_count": 72,
   "id": "8ec34b6b-1c33-4fde-b130-a5dfa919faa8",
   "metadata": {},
   "outputs": [],
   "source": [
    "# To illustrate the impact of the cleaning process, let's compare the original data with the cleaned data\n",
    "import pandas as pd\n",
    "import numpy as np\n",
    "\n",
    "# Load the original data\n",
    "df_original = pd.read_csv('messy_hr.csv')\n",
    "\n",
    "# Create a copy of the original DataFrame for cleaning\n",
    "df = df_original.copy()\n"
   ]
  },
  {
   "cell_type": "code",
   "execution_count": 74,
   "id": "90397f2f-5c96-460a-8e5f-b1cb14f9c26a",
   "metadata": {},
   "outputs": [
    {
     "name": "stdout",
     "output_type": "stream",
     "text": [
      "Before Cleaning:\n",
      "   Age          Salary              Email  Phone Number\n",
      "0   25           50000  email@example.com           NaN\n",
      "1  NaN           65000    user@domain.com  123-456-7890\n",
      "2   35  SIXTY THOUSAND  email@example.com  098-765-4321\n",
      "3  NaN           50000   name@company.org              \n",
      "4  NaN            NAN    name@company.org  098-765-4321\n",
      "\n",
      "After Cleaning:\n",
      "   Age          Salary              Email  Phone Number\n",
      "0   25           50000  email@example.com           NaN\n",
      "1  NaN           65000    user@domain.com  123-456-7890\n",
      "2   35  SIXTY THOUSAND  email@example.com  098-765-4321\n",
      "3  NaN           50000   name@company.org              \n",
      "4  NaN            NAN    name@company.org  098-765-4321\n"
     ]
    }
   ],
   "source": [
    "# Before/After sample tables\n",
    "before_df = df_original[['Age', 'Salary', 'Email', 'Phone Number']].head(5)\n",
    "after_df = df[['Age', 'Salary', 'Email', 'Phone Number']].head(5)\n",
    "\n",
    "print(\"Before Cleaning:\")\n",
    "print(before_df)\n",
    "print(\"\\nAfter Cleaning:\")\n",
    "print(after_df)\n"
   ]
  },
  {
   "cell_type": "markdown",
   "id": "2a3aaab0-6bf3-4ab7-94d9-4e48aee05878",
   "metadata": {},
   "source": [
    "# Dealing with issues from the outcome above\n",
    "\n",
    "The outcome shows that there are still issues with the data, specifically:\n",
    "\n",
    "- The \"SIXTY THOUSAND\" value in the Salary column hasn't been converted to a numeric value.\n",
    "- The \"NAN\" value in the Age column hasn't been replaced with a missing value indicator (np.nan).\n",
    "\n",
    "Let's revisit the cleaning steps to ensure that these issues are addressed.\n",
    "\n",
    "For the Salary column, I can use a mapping to convert word representations of numbers to numeric values. \n",
    "\n",
    "For the Age column, we can replace \"NAN\" with np.nan.\n"
   ]
  },
  {
   "cell_type": "code",
   "execution_count": 79,
   "id": "b0728907-773a-44b6-9c58-3df2acca8477",
   "metadata": {},
   "outputs": [],
   "source": [
    "# Map word representations of numbers to numeric values\n",
    "salary_map = {'SIXTY THOUSAND': 60000}\n",
    "df['Salary'] = df['Salary'].replace(salary_map)\n",
    "\n",
    "# Replace 'NAN' with np.nan in the Age column\n",
    "df['Age'] = df['Age'].replace('NAN', np.nan)\n"
   ]
  },
  {
   "cell_type": "code",
   "execution_count": 81,
   "id": "adac8f4b-8b78-45a0-bfbf-cd2ad5987f7e",
   "metadata": {},
   "outputs": [],
   "source": [
    "# Additionally, I want to consider converting the Salary column to numeric values using pd.to_numeric with errors='coerce':\n",
    "\n",
    "df['Salary'] = pd.to_numeric(df['Salary'], errors='coerce')\n"
   ]
  },
  {
   "cell_type": "code",
   "execution_count": 83,
   "id": "0ac5494d-c906-40fc-b8cd-2af197236945",
   "metadata": {},
   "outputs": [
    {
     "name": "stdout",
     "output_type": "stream",
     "text": [
      "Before Cleaning:\n",
      "   Age          Salary              Email  Phone Number\n",
      "0   25           50000  email@example.com           NaN\n",
      "1  NaN           65000    user@domain.com  123-456-7890\n",
      "2   35  SIXTY THOUSAND  email@example.com  098-765-4321\n",
      "3  NaN           50000   name@company.org              \n",
      "4  NaN            NAN    name@company.org  098-765-4321\n",
      "\n",
      "After Cleaning:\n",
      "   Age   Salary              Email  Phone Number\n",
      "0   25  50000.0  email@example.com           NaN\n",
      "1  NaN  65000.0    user@domain.com  123-456-7890\n",
      "2   35  60000.0  email@example.com  098-765-4321\n",
      "3  NaN  50000.0   name@company.org              \n",
      "4  NaN      NaN   name@company.org  098-765-4321\n"
     ]
    }
   ],
   "source": [
    "# Re-running the before/after comparison to see if these changes have addressed the issues.\n",
    "\n",
    "before_df = df_original[['Age', 'Salary', 'Email', 'Phone Number']].head(5)\n",
    "after_df = df[['Age', 'Salary', 'Email', 'Phone Number']].head(5)\n",
    "\n",
    "print(\"Before Cleaning:\")\n",
    "print(before_df)\n",
    "print(\"\\nAfter Cleaning:\")\n",
    "print(after_df)"
   ]
  },
  {
   "cell_type": "markdown",
   "id": "013c032e-467b-43af-a6d1-75a27031b680",
   "metadata": {},
   "source": [
    "# 3.7  Data Cleaning Summary\n",
    "\n",
    "###  Challenges and Issues\n",
    "\n",
    "- Missing values in Age and Salary columns\n",
    "- Non-numeric values in Salary column (e.g., \"SIXTY THOUSAND\")\n",
    "- Inconsistent formatting in Phone Number column\n",
    "- Placeholder values (e.g., \"NAN\") in Age and Salary columns\n",
    "\n",
    "### Cleaning Steps\n",
    "\n",
    "- Loaded original data from messy_hr.csv file\n",
    "- Created a copy of the original DataFrame for cleaning\n",
    "- Standardized numeric columns (Age and Salary)\n",
    "- Replaced placeholder values (e.g., \"NAN\") with NaN\n",
    "- Mapped word representations of numbers to numeric values in Salary column\n",
    "- Used pd.to_numeric with errors='coerce' to convert Salary column to numeric values\n",
    "\n",
    "### Remaining Challenges\n",
    "\n",
    "- Missing values in Age column still need to be imputed or handled\n",
    "- Phone Number column might benefit from further cleaning or standardization\n",
    "\n",
    "### Conclusion\n",
    "\n",
    "Through this cleaning process, I've successfully standardized the data, handled missing values, and improved the overall quality of the dataset. Even though the cleaning process has made significant progress in standardizing the data and addressing some of the issues, there are still some remaining challenges that need to be addressed.\n"
   ]
  },
  {
   "cell_type": "markdown",
   "id": "e471107c-2772-4868-9bbf-32b8abc0be7b",
   "metadata": {},
   "source": [
    "# 3.8 Save Outputs\t\n",
    "\n",
    "Save each visual (nulls, distribution, validation counts) as PNG. Keep code and commentary in notebook.\n"
   ]
  },
  {
   "cell_type": "code",
   "execution_count": 88,
   "id": "ab046695-0365-41fa-b81b-24115d1946b0",
   "metadata": {},
   "outputs": [],
   "source": [
    "# Save the cleaned data\n",
    "df.to_csv('cleaned_hr_data.csv', index=False)\n"
   ]
  },
  {
   "cell_type": "markdown",
   "id": "897db6a5-6de1-4a86-80f9-767e3dfade14",
   "metadata": {},
   "source": [
    "#  📊 Step 4: ANALYZE\n",
    "## Overview:\n",
    "Visualize where data is missing in the dataset.\n",
    "\n",
    "## Purpose:\n",
    "To assess data quality and determine where imputation or exclusion is needed."
   ]
  },
  {
   "cell_type": "code",
   "execution_count": 20,
   "id": "71c4c4f7-562f-43d7-ae92-b37a077f710c",
   "metadata": {},
   "outputs": [
    {
     "name": "stdout",
     "output_type": "stream",
     "text": [
      "📋 Missing Values Summary Table:\n",
      "| Column       |   Missing_Count |   Missing_Percent |\n",
      "|:-------------|----------------:|------------------:|\n",
      "| Age          |             159 |              15.9 |\n",
      "| Email        |             390 |              39   |\n",
      "| Phone Number |             185 |              18.5 |\n"
     ]
    },
    {
     "name": "stderr",
     "output_type": "stream",
     "text": [
      "C:\\Users\\HP USER\\AppData\\Local\\Temp\\ipykernel_25692\\3126169199.py:25: UserWarning: Glyph 128269 (\\N{LEFT-POINTING MAGNIFYING GLASS}) missing from font(s) DejaVu Sans.\n",
      "  plt.tight_layout()\n",
      "C:\\Users\\HP USER\\AppData\\Local\\Temp\\ipykernel_25692\\3126169199.py:26: UserWarning: Glyph 128269 (\\N{LEFT-POINTING MAGNIFYING GLASS}) missing from font(s) DejaVu Sans.\n",
      "  plt.savefig(os.path.join(plot_dir, 'missing_values_heatmap_improved.png'))\n",
      "C:\\Users\\HP USER\\anaconda3\\envs\\geopandas_env\\lib\\site-packages\\IPython\\core\\pylabtools.py:170: UserWarning: Glyph 128269 (\\N{LEFT-POINTING MAGNIFYING GLASS}) missing from font(s) DejaVu Sans.\n",
      "  fig.canvas.print_figure(bytes_io, **kw)\n"
     ]
    },
    {
     "data": {
      "image/png": "[encoded data removed]",
      "text/plain": [
       "<Figure size 1000x600 with 2 Axes>"
      ]
     },
     "metadata": {},
     "output_type": "display_data"
    }
   ],
   "source": [
    "# ✅ Enhanced Missing Value Analysis: Heatmap + Summary Table\n",
    "# --- Step 1: Summary Table for Missing Values ---\n",
    "missing_summary = df.isnull().sum().reset_index()\n",
    "missing_summary.columns = ['Column', 'Missing_Count']\n",
    "missing_summary['Missing_Percent'] = round((missing_summary['Missing_Count'] / len(df)) * 100, 2)\n",
    "missing_summary = missing_summary[missing_summary['Missing_Count'] > 0]  # Only show columns with missing values\n",
    "\n",
    "# Save to CSV\n",
    "missing_summary.to_csv(os.path.join(plot_dir, 'missing_values_summary.csv'), index=False)\n",
    "\n",
    "# Display in cell\n",
    "print(\"📋 Missing Values Summary Table:\")\n",
    "print(missing_summary.to_markdown(index=False))\n",
    "\n",
    "# --- Step 2: Better Heatmap for Missing Values ---\n",
    "plt.figure(figsize=(10, 6))\n",
    "sns.heatmap(df[missing_summary['Column']].isnull(), \n",
    "            cmap=sns.color_palette([\"#e0e0e0\", \"#003366\"]),  # Light grey for not missing, dark blue for missing\n",
    "            cbar=True,\n",
    "            yticklabels=False,\n",
    "            linewidths=0.5,\n",
    "            linecolor='lightgrey')\n",
    "plt.title('🔍 Missing Data Heatmap (Columns with Missing)')\n",
    "plt.xlabel('Columns')\n",
    "plt.tight_layout()\n",
    "plt.savefig(os.path.join(plot_dir, 'missing_values_heatmap_improved.png'))\n",
    "plt.show()"
   ]
  },
  {
   "cell_type": "markdown",
   "id": "31c02b01-c2a6-4266-b5b8-dad598a02c4a",
   "metadata": {},
   "source": [
    "\n",
    "## 🔍 Missing Data Heatmap & Summary Report\n",
    "\n",
    "### 📈 Overview:\n",
    "\n",
    "I visualized **missing data** using a heatmap and tabulated the number and percentage of missing values in key columns.\n",
    "\n",
    "### 🎯 Purpose:\n",
    "\n",
    "* To **identify patterns** of missing data.\n",
    "* To guide **data cleaning** decisions — e.g., whether to impute, drop, or further investigate specific fields.\n",
    "\n",
    "---\n",
    "\n",
    "### 📊 Missing Values Summary Table:\n",
    "\n",
    "| Column       | Missing\\_Count | Missing\\_Percent |\n",
    "| ------------ | -------------- | ---------------- |\n",
    "| Age          | 159            | 15.9%            |\n",
    "| Email        | 390            | 39.0%            |\n",
    "| Phone Number | 185            | 18.5%            |\n",
    "\n",
    "📁 **Saved as**: `missing_values_summary.csv`\n",
    "\n",
    "---\n",
    "\n",
    "### 🖼️ Visualization:\n",
    "\n",
    "* 🔹 The heatmap was saved as `missing_values_heatmap_improved.png` using a **2-color palette** for clarity.\n",
    "* Each row represents a record; each column shows whether that field is missing.\n",
    "* Missing = Dark Blue, Not Missing = Light Grey.\n",
    "\n",
    "---\n",
    "\n",
    "### 🔎 Interpretation:\n",
    "\n",
    "* **Email** has the highest missing rate (39%) and may impact communication and identity validation.\n",
    "* **Phone Number** is missing in 18.5% of records, which could hinder follow-ups or customer service.\n",
    "* **Age** is missing in 15.9% of entries, which could affect segmentation and demographic analysis.\n",
    "\n",
    "---\n",
    "\n",
    "### 💡 Key Insights:\n",
    "\n",
    "* Columns with over 15% missing data require cleaning decisions:\n",
    "\n",
    "  * Consider **imputing Age** if it's used in modeling.\n",
    "  * **Email** and **Phone** might need to be flagged for follow-up or excluded from certain analyses.\n",
    "\n",
    "---\n",
    "\n",
    "### ⚠️ Challenges:\n",
    "\n",
    "* Original heatmap used `viridis`, a continuous colormap — not ideal for binary values.\n",
    "* Required manual tuning to select a **binary color palette** to reveal missing patterns clearly.\n",
    "\n",
    "---\n",
    "\n",
    "### ✅ Strategic Recommendations:\n",
    "\n",
    "1. 📌 **Flag incomplete records** in a new column for downstream handling.\n",
    "2. ✉️ **Investigate why emails are missing** — are they optional fields, or data entry gaps?\n",
    "3. 📞 **Consider alternative contact fields** or follow-up for missing phone numbers.\n",
    "4. 👥 **Impute or drop** missing age records depending on modeling needs.\n",
    "\n",
    "---\n",
    "\n",
    "\n"
   ]
  },
  {
   "cell_type": "code",
   "execution_count": 46,
   "id": "2ea64d1f-f3e8-4b31-a07c-32e4acb0c03d",
   "metadata": {},
   "outputs": [
    {
     "name": "stdout",
     "output_type": "stream",
     "text": [
      "### Missing Value Percentage Plot\n",
      "              Column  Missing Percentage\n",
      "0               Name                 0.0\n",
      "1                Age                15.9\n",
      "2             Salary                16.7\n",
      "3             Gender                 0.0\n",
      "4         Department                 0.0\n",
      "5           Position                 0.0\n",
      "6       Joining Date                 0.0\n",
      "7  Performance Score                 0.0\n",
      "8              Email                39.0\n",
      "9       Phone Number                18.5\n"
     ]
    },
    {
     "data": {
      "image/png": "[encoded data removed]",
      "text/plain": [
       "<Figure size 1000x600 with 2 Axes>"
      ]
     },
     "metadata": {},
     "output_type": "display_data"
    },
    {
     "name": "stdout",
     "output_type": "stream",
     "text": [
      "\n",
      "### Summary of Missing Values:\n",
      "The missing value percentage heatmap shows the proportion of missing values in each column.\n",
      "The columns with the highest missing value percentage are:\n",
      "         Column  Missing_Count  Missing Percentage\n",
      "8         Email            390                39.0\n",
      "9  Phone Number            185                18.5\n",
      "2        Salary            167                16.7\n"
     ]
    }
   ],
   "source": [
    "import pandas as pd\n",
    "import matplotlib.pyplot as plt\n",
    "import seaborn as sns\n",
    "import numpy as np\n",
    "\n",
    "# Load the cleaned data\n",
    "cleaned_hr_data = pd.read_csv(r'C:\\Users\\HP USER\\Documents\\HN-Personal\\Regonet Files\\Regonet_4proj_challenge\\Messy_HR_Proj\\cleaned_hr_data.csv')\n",
    "\n",
    "# Calculate missing values\n",
    "missing_values = cleaned_hr_data.isnull().mean() * 100\n",
    "\n",
    "# Create a dataframe with missing values\n",
    "missing_values_df = pd.DataFrame(missing_values).reset_index()\n",
    "missing_values_df.columns = ['Column', 'Missing Percentage']\n",
    "\n",
    "# Display plot description and summary table\n",
    "print(\"### Missing Value Percentage Plot\")\n",
    "print(missing_values_df)\n",
    "\n",
    "# Plot\n",
    "plt.figure(figsize=(10, 6))\n",
    "sns.heatmap(missing_values_df.set_index('Column').T, annot=True, cmap='Blues', fmt='.1f', linewidths=0.5)\n",
    "plt.title('Missing Value Percentage')\n",
    "plt.xticks(rotation=90)\n",
    "plt.tight_layout()\n",
    "plt.savefig('missing_value_percentage_heatmap.png')\n",
    "plt.show()\n",
    "\n",
    "# Save summary table to CSV\n",
    "missing_values_df['Missing_Count'] = cleaned_hr_data.isnull().sum().values\n",
    "missing_values_df = missing_values_df[['Column', 'Missing_Count', 'Missing Percentage']]\n",
    "print(\"\\n### Summary of Missing Values:\")\n",
    "print(\"The missing value percentage heatmap shows the proportion of missing values in each column.\")\n",
    "print(\"The columns with the highest missing value percentage are:\")\n",
    "print(missing_values_df.sort_values(by='Missing Percentage', ascending=False).head(3))\n",
    "missing_values_df.to_csv('missing_value_summary.csv', index=False)\n"
   ]
  },
  {
   "cell_type": "markdown",
   "id": "31b2c9f7-8926-44dc-8211-528addd6d3e4",
   "metadata": {},
   "source": [
    "## 🔍 Missing Data Heatmap & Summary Report\n",
    "### - Overview: The missing value percentage heatmap shows the proportion of missing values in each column.\n",
    "\n",
    "### - Purpose: To identify columns with high missing value percentages and prioritize data cleaning efforts.\n",
    "\n",
    "### - Interpretation: The heatmap shows that the columns with the highest missing value percentages are Email (39%), Phone Number (18.5%), and Salary (16.7%).\n",
    "\n",
    "### - Key Insights: The columns with high missing value percentages may require additional data cleaning or imputation efforts. Specifically, Email has a significant number of missing values, which may impact analysis or models that rely on this feature.\n",
    "\n",
    "### - Challenges: The missing values may impact the accuracy of downstream analysis or models, particularly if these columns are important predictors or features.\n",
    "\n",
    "### - Strategic Recommendations: \n",
    "      Prioritize data cleaning efforts on Email, Phone Number, and Salary columns. \n",
    "      Consider imputation or interpolation techniques to fill missing values, or \n",
    "      Explore alternative data sources to supplement these columns.\n"
   ]
  },
  {
   "cell_type": "markdown",
   "id": "52e95c1d-0beb-42de-b946-2cffc1d47483",
   "metadata": {},
   "source": [
    "# 🔍 4.2 Bar Plot – Cleaned Department Distribution\n",
    "## Overview:\n",
    "Shows frequency of each department.\n",
    "\n",
    "## Purpose:\n",
    "Business understanding of team size and representation."
   ]
  },
  {
   "cell_type": "code",
   "execution_count": 24,
   "id": "7cab507e-e6d0-4529-86b0-94ce5f22ca8d",
   "metadata": {},
   "outputs": [
    {
     "name": "stderr",
     "output_type": "stream",
     "text": [
      "C:\\Users\\HP USER\\AppData\\Local\\Temp\\ipykernel_25692\\291716143.py:2: FutureWarning: \n",
      "\n",
      "Passing `palette` without assigning `hue` is deprecated and will be removed in v0.14.0. Assign the `x` variable to `hue` and set `legend=False` for the same effect.\n",
      "\n",
      "  sns.countplot(data=df, x='Department', order=df['Department'].value_counts().index, palette='Set2')\n"
     ]
    },
    {
     "data": {
      "image/png": "[encoded data removed]",
      "text/plain": [
       "<Figure size 1000x500 with 1 Axes>"
      ]
     },
     "metadata": {},
     "output_type": "display_data"
    }
   ],
   "source": [
    "plt.figure(figsize=(10, 5))\n",
    "sns.countplot(data=df, x='Department', order=df['Department'].value_counts().index, palette='Set2')\n",
    "plt.xticks(rotation=45)\n",
    "plt.title('Employee Count per Department')\n",
    "plt.tight_layout()\n",
    "plt.savefig(os.path.join(plot_dir, 'department_distribution.png'))\n",
    "plt.show()\n"
   ]
  },
  {
   "cell_type": "markdown",
   "id": "5ca3719c-891a-4e2a-bc20-6ead11aeee3d",
   "metadata": {},
   "source": [
    "# Summary:\n",
    "X: Department names\n",
    "Y: Number of employees per department\n",
    "\n",
    "## Interpretation:\n",
    "Highlights staffing distribution across units.\n",
    "\n",
    "## Key Insights:\n",
    "You can spot over- or under-staffed departments.\n",
    "\n",
    "## Challenges:\n",
    "Typos or inconsistencies (e.g., 'HR' vs 'Human Resources') skew counts.\n",
    "\n",
    "## Recommendation:\n",
    "Standardize department names before analysis."
   ]
  },
  {
   "cell_type": "code",
   "execution_count": 66,
   "id": "dddf8c3c-20b2-45ce-98e7-421cfc5965b2",
   "metadata": {},
   "outputs": [
    {
     "name": "stderr",
     "output_type": "stream",
     "text": [
      "C:\\Users\\HP USER\\AppData\\Local\\Temp\\ipykernel_25692\\2258214425.py:24: FutureWarning: \n",
      "\n",
      "Passing `palette` without assigning `hue` is deprecated and will be removed in v0.14.0. Assign the `x` variable to `hue` and set `legend=False` for the same effect.\n",
      "\n",
      "  sns.barplot(x=dept_counts.index, y=dept_counts.values, palette=\"viridis\")\n"
     ]
    },
    {
     "data": {
      "image/png": "[encoded data removed]",
      "text/plain": [
       "<Figure size 1000x500 with 1 Axes>"
      ]
     },
     "metadata": {},
     "output_type": "display_data"
    },
    {
     "name": "stdout",
     "output_type": "stream",
     "text": [
      "📋 Department Summary Table:\n",
      "| Department   |   Count |\n",
      "|:-------------|--------:|\n",
      "| Finance      |     218 |\n",
      "| Sales        |     202 |\n",
      "| HR           |     200 |\n",
      "| IT           |     193 |\n",
      "| Marketing    |     187 |\n"
     ]
    }
   ],
   "source": [
    "import pandas as pd\n",
    "import matplotlib.pyplot as plt\n",
    "import seaborn as sns\n",
    "import os\n",
    "\n",
    "# Set plot style\n",
    "sns.set(style=\"whitegrid\")\n",
    "\n",
    "# Load the cleaned HR data from the provided path\n",
    "file_path = r'C:\\Users\\HP USER\\Documents\\HN-Personal\\Regonet Files\\Regonet_4proj_challenge\\Messy_HR_Proj\\cleaned_hr_data.csv'\n",
    "cleaned_hr_data = pd.read_csv(file_path)\n",
    "\n",
    "# Create output folders if not exist\n",
    "output_dir = \"EDA_Plots\"\n",
    "csv_dir = \"EDA_CSVs\"\n",
    "os.makedirs(output_dir, exist_ok=True)\n",
    "os.makedirs(csv_dir, exist_ok=True)\n",
    "\n",
    "# ====== DEPARTMENT ANALYSIS ======\n",
    "\n",
    "# Bar Plot for Department\n",
    "plt.figure(figsize=(10, 5))\n",
    "dept_counts = cleaned_hr_data['Department'].value_counts()\n",
    "sns.barplot(x=dept_counts.index, y=dept_counts.values, palette=\"viridis\")\n",
    "plt.title(\"Distribution of Departments\")\n",
    "plt.ylabel(\"Number of Employees\")\n",
    "plt.xlabel(\"Department\")\n",
    "plt.xticks(rotation=45)\n",
    "plt.tight_layout()\n",
    "dept_plot_path = os.path.join(output_dir, \"department_distribution.png\")\n",
    "plt.savefig(dept_plot_path)\n",
    "plt.show()\n",
    "\n",
    "# Create and display summary table for Department\n",
    "dept_summary = pd.DataFrame({\n",
    "    \"Department\": dept_counts.index,\n",
    "    \"Count\": dept_counts.values\n",
    "})\n",
    "\n",
    "# Save CSV\n",
    "dept_summary_path = os.path.join(csv_dir, \"department_summary.csv\")\n",
    "dept_summary.to_csv(dept_summary_path, index=False)\n",
    "\n",
    "# Display as Markdown-style table (for Jupyter or similar)\n",
    "print(\"📋 Department Summary Table:\")\n",
    "print(dept_summary.to_markdown(index=False))\n"
   ]
  },
  {
   "cell_type": "markdown",
   "id": "7d5034c1-8c6e-4d1e-a4ac-fad411ee38e4",
   "metadata": {},
   "source": [
    "## 📊 Department Distribution Analysis\n",
    "\n",
    "### 🔍 Overview:\n",
    "\n",
    "This visualization presents a bar plot showing the number of employees across different departments in the organization.\n",
    "\n",
    "### 🎯 Purpose:\n",
    "\n",
    "The goal is to validate that department data has been cleaned and standardized, and to understand the workforce distribution for potential resource planning or rebalancing.\n",
    "\n",
    "### 🧾 Code Block:\n",
    "\n",
    "*(Already implemented earlier and saved as `department_distribution.png` and `department_summary.csv`)*\n",
    "\n",
    "### 🖼️ PNG Plot:\n",
    "\n",
    "**✅ Saved as:** `EDA_Plots/department_distribution.png`\n",
    "\n",
    "### 📋 Summary Table:\n",
    "\n",
    "| Department | Count |\n",
    "| :--------- | ----: |\n",
    "| Finance    |   218 |\n",
    "| Sales      |   202 |\n",
    "| HR         |   200 |\n",
    "| IT         |   193 |\n",
    "| Marketing  |   187 |\n",
    "\n",
    "**✅ Saved as:** `EDA_CSVs/department_summary.csv`\n",
    "\n",
    "---\n",
    "\n",
    "### 🧠 Interpretation:\n",
    "\n",
    "The Finance department has the highest number of employees (218), followed closely by Sales (202), HR (200), IT (193), and Marketing (187). The distribution appears fairly balanced, but Finance is slightly overrepresented.\n",
    "\n",
    "### 🔑 Key Insights:\n",
    "\n",
    "* The close count across departments may indicate efforts toward evenly distributed staffing.\n",
    "* Finance's larger headcount may imply greater operational focus, possibly due to financial control, budgeting, or payroll responsibilities.\n",
    "* HR, being third-largest, shows prioritization of employee-related processes.\n",
    "\n",
    "### ⚠️ Challenges:\n",
    "\n",
    "* Some departments may have been inconsistently labeled before cleaning (e.g., “Human Resources” vs. “HR”), potentially skewing pre-cleaning counts.\n",
    "* Department names were case-normalized and trimmed, but no sub-departments were broken down (e.g., “IT - Support”).\n",
    "\n",
    "### 🧭 Strategic Recommendations:\n",
    "\n",
    "* If Finance is significantly larger, assess whether the resource allocation aligns with organizational priorities.\n",
    "* Evaluate if departments like Marketing and IT are understaffed relative to operational demand.\n",
    "* Consider breaking down departments further (e.g., “IT - Infrastructure”, “Sales - Retail”) for granular workforce planning in future analysis.\n"
   ]
  },
  {
   "cell_type": "code",
   "execution_count": 57,
   "id": "1e01b998-66f7-4bb2-af59-88496c8cf942",
   "metadata": {},
   "outputs": [
    {
     "data": {
      "text/markdown": [
       "### Department Distribution Plot"
      ],
      "text/plain": [
       "<IPython.core.display.Markdown object>"
      ]
     },
     "metadata": {},
     "output_type": "display_data"
    },
    {
     "data": {
      "text/html": [
       "<div>\n",
       "<style scoped>\n",
       "    .dataframe tbody tr th:only-of-type {\n",
       "        vertical-align: middle;\n",
       "    }\n",
       "\n",
       "    .dataframe tbody tr th {\n",
       "        vertical-align: top;\n",
       "    }\n",
       "\n",
       "    .dataframe thead th {\n",
       "        text-align: right;\n",
       "    }\n",
       "</style>\n",
       "<table border=\"1\" class=\"dataframe\">\n",
       "  <thead>\n",
       "    <tr style=\"text-align: right;\">\n",
       "      <th></th>\n",
       "      <th>Department</th>\n",
       "      <th>Count</th>\n",
       "    </tr>\n",
       "  </thead>\n",
       "  <tbody>\n",
       "    <tr>\n",
       "      <th>0</th>\n",
       "      <td>Finance</td>\n",
       "      <td>218</td>\n",
       "    </tr>\n",
       "    <tr>\n",
       "      <th>1</th>\n",
       "      <td>Sales</td>\n",
       "      <td>202</td>\n",
       "    </tr>\n",
       "    <tr>\n",
       "      <th>2</th>\n",
       "      <td>HR</td>\n",
       "      <td>200</td>\n",
       "    </tr>\n",
       "    <tr>\n",
       "      <th>3</th>\n",
       "      <td>IT</td>\n",
       "      <td>193</td>\n",
       "    </tr>\n",
       "    <tr>\n",
       "      <th>4</th>\n",
       "      <td>Marketing</td>\n",
       "      <td>187</td>\n",
       "    </tr>\n",
       "  </tbody>\n",
       "</table>\n",
       "</div>"
      ],
      "text/plain": [
       "  Department  Count\n",
       "0    Finance    218\n",
       "1      Sales    202\n",
       "2         HR    200\n",
       "3         IT    193\n",
       "4  Marketing    187"
      ]
     },
     "metadata": {},
     "output_type": "display_data"
    },
    {
     "data": {
      "image/png": "[encoded data removed]",
      "text/plain": [
       "<Figure size 1000x600 with 1 Axes>"
      ]
     },
     "metadata": {},
     "output_type": "display_data"
    }
   ],
   "source": [
    "import pandas as pd\n",
    "import matplotlib.pyplot as plt\n",
    "import seaborn as sns\n",
    "from IPython.display import display, Markdown\n",
    "\n",
    "# Department distribution\n",
    "department_counts = cleaned_hr_data['Department'].value_counts()\n",
    "department_counts_df = pd.DataFrame(department_counts).reset_index()\n",
    "department_counts_df.columns = ['Department', 'Count']\n",
    "\n",
    "# Display plot description and summary table\n",
    "display(Markdown(\"### Department Distribution Plot\"))\n",
    "display(department_counts_df)\n",
    "\n",
    "plt.figure(figsize=(10, 6))\n",
    "sns.barplot(x='Department', y='Count', data=department_counts_df)\n",
    "plt.title('Department Distribution')\n",
    "plt.xticks(rotation=90)\n",
    "plt.tight_layout()\n",
    "plt.savefig('department_distribution.png')\n",
    "plt.show()\n",
    "\n",
    "department_counts_df.to_csv('department_summary.csv', index=False)\n"
   ]
  },
  {
   "cell_type": "markdown",
   "id": "e21337bb-f3fe-4de8-be6b-445de9e39dbf",
   "metadata": {},
   "source": [
    "## Distribution Plot:\n",
    "\n",
    "### - Overview: The department distribution plot shows the count of employees in each department.\n",
    "\n",
    "### - Purpose: To understand the composition of the workforce and identify any imbalances in departmental representation.\n",
    "\n",
    "### - Interpretation: The plot shows that Finance has the highest number of employees (218), followed closely by Sales (202) and HR (200). IT and Marketing have slightly lower numbers of employees, with 193 and 187 respectively.\n",
    "\n",
    "### - Key Insights: The departmental distribution can inform staffing decisions, training programs, and resource allocation. For example, Finance and Sales may require more resources or personnel to support their larger teams.\n",
    "\n",
    "### - Challenges: Imbalances in departmental representation may impact the organization's overall performance and efficiency.\n",
    "\n",
    "### - Strategic Recommendations: Consider reviewing staffing levels and resource allocation to ensure that each department has the necessary support to meet its goals. Additionally, consider analyzing the reasons behind the departmental imbalances to identify opportunities for improvement.\n"
   ]
  },
  {
   "cell_type": "markdown",
   "id": "8457028f-54df-4815-8340-ef7669e297a9",
   "metadata": {},
   "source": [
    "# 🔍 4.3 Bar Plot – Cleaned Position Distribution\n",
    "## Overview:\n",
    "Visualizes job roles held by employees.\n",
    "\n",
    "## Purpose:\n",
    "To analyze role diversity and redundancy."
   ]
  },
  {
   "cell_type": "code",
   "execution_count": 28,
   "id": "2cb9afa7-df77-435c-9d4c-2b735029c1b5",
   "metadata": {},
   "outputs": [
    {
     "name": "stderr",
     "output_type": "stream",
     "text": [
      "C:\\Users\\HP USER\\AppData\\Local\\Temp\\ipykernel_25692\\1969353909.py:2: FutureWarning: \n",
      "\n",
      "Passing `palette` without assigning `hue` is deprecated and will be removed in v0.14.0. Assign the `x` variable to `hue` and set `legend=False` for the same effect.\n",
      "\n",
      "  sns.countplot(data=df, x='Position', order=df['Position'].value_counts().head(10).index, palette='Set3')\n"
     ]
    },
    {
     "data": {
      "image/png": "[encoded data removed]",
      "text/plain": [
       "<Figure size 1000x500 with 1 Axes>"
      ]
     },
     "metadata": {},
     "output_type": "display_data"
    }
   ],
   "source": [
    "plt.figure(figsize=(10, 5))\n",
    "sns.countplot(data=df, x='Position', order=df['Position'].value_counts().head(10).index, palette='Set3')\n",
    "plt.xticks(rotation=45)\n",
    "plt.title('Top 10 Positions by Count')\n",
    "plt.tight_layout()\n",
    "plt.savefig(os.path.join(plot_dir, 'position_distribution.png'))\n",
    "plt.show()"
   ]
  },
  {
   "cell_type": "markdown",
   "id": "15513d15-e106-428b-b405-f4bc0852f0c0",
   "metadata": {},
   "source": [
    "# Summary:\n",
    "X: Top 10 job titles\n",
    "Y: Employee count per title\n",
    "\n",
    "## Interpretation:\n",
    "Shows which positions are most common.\n",
    "\n",
    "## Key Insights:\n",
    "Informs decisions on role consolidation or hiring needs.\n",
    "\n",
    "## Challenges:\n",
    "Inconsistent naming (e.g., 'Data Analyst', 'Data analyst').\n",
    "\n",
    "## Recommendation:\n",
    "Group similar positions under common labels before plotting."
   ]
  },
  {
   "cell_type": "code",
   "execution_count": 70,
   "id": "7fca26f4-810e-4bc9-93e1-1448e13e5d31",
   "metadata": {},
   "outputs": [
    {
     "name": "stderr",
     "output_type": "stream",
     "text": [
      "C:\\Users\\HP USER\\AppData\\Local\\Temp\\ipykernel_25692\\3044882552.py:19: FutureWarning: \n",
      "\n",
      "Passing `palette` without assigning `hue` is deprecated and will be removed in v0.14.0. Assign the `x` variable to `hue` and set `legend=False` for the same effect.\n",
      "\n",
      "  sns.barplot(x=position_counts.index, y=position_counts.values, palette=\"magma\")\n"
     ]
    },
    {
     "data": {
      "image/png": "[encoded data removed]",
      "text/plain": [
       "<Figure size 1200x600 with 1 Axes>"
      ]
     },
     "metadata": {},
     "output_type": "display_data"
    },
    {
     "name": "stdout",
     "output_type": "stream",
     "text": [
      "\n",
      "📋 Top 10 Position Summary Table:\n",
      "| Position   |   Count |\n",
      "|:-----------|--------:|\n",
      "| Assistant  |     214 |\n",
      "| Director   |     204 |\n",
      "| Clerk      |     202 |\n",
      "| Analyst    |     194 |\n",
      "| Manager    |     186 |\n"
     ]
    }
   ],
   "source": [
    "import pandas as pd\n",
    "import matplotlib.pyplot as plt\n",
    "import seaborn as sns\n",
    "import os\n",
    "\n",
    "# Load the cleaned HR data\n",
    "file_path = r'C:\\Users\\HP USER\\Documents\\HN-Personal\\Regonet Files\\Regonet_4proj_challenge\\Messy_HR_Proj\\cleaned_hr_data.csv'\n",
    "cleaned_hr_data = pd.read_csv(file_path)\n",
    "\n",
    "# Create output folders if not exist\n",
    "output_dir = \"EDA_Plots\"\n",
    "csv_dir = \"EDA_CSVs\"\n",
    "os.makedirs(output_dir, exist_ok=True)\n",
    "os.makedirs(csv_dir, exist_ok=True)\n",
    "\n",
    "# Plot for Position distribution\n",
    "plt.figure(figsize=(12, 6))\n",
    "position_counts = cleaned_hr_data['Position'].value_counts().head(10)  # Top 10 for readability\n",
    "sns.barplot(x=position_counts.index, y=position_counts.values, palette=\"magma\")\n",
    "plt.title(\"Top 10 Most Common Positions\")\n",
    "plt.ylabel(\"Number of Employees\")\n",
    "plt.xlabel(\"Position\")\n",
    "plt.xticks(rotation=45)\n",
    "plt.tight_layout()\n",
    "position_plot_path = os.path.join(output_dir, \"position_distribution.png\")\n",
    "plt.savefig(position_plot_path)\n",
    "plt.show()\n",
    "\n",
    "# Save summary table for Position\n",
    "position_summary = pd.DataFrame({\n",
    "    \"Position\": position_counts.index,\n",
    "    \"Count\": position_counts.values\n",
    "})\n",
    "position_summary_path = os.path.join(csv_dir, \"position_summary.csv\")\n",
    "position_summary.to_csv(position_summary_path, index=False)\n",
    "\n",
    "# Display summary table\n",
    "print(\"\\n📋 Top 10 Position Summary Table:\")\n",
    "print(position_summary.to_markdown(index=False))\n"
   ]
  },
  {
   "cell_type": "markdown",
   "id": "5164759e-dcdc-4a6d-b234-966f9e30f72b",
   "metadata": {},
   "source": [
    "### 📊 Top 10 Most Common Positions\n",
    "\n",
    "#### 🔍 Overview:\n",
    "\n",
    "This bar plot illustrates the **10 most frequent job positions** within the cleaned HR dataset, helping visualize the organizational structure by role frequency. In this case, we focus on the **top 5 roles** for simplicity and clarity.\n",
    "\n",
    "#### 🎯 Purpose:\n",
    "\n",
    "* To identify the **most common roles** within the organization.\n",
    "* To understand where **workforce concentration** lies.\n",
    "* To support planning around **hiring**, **training**, or **restructuring**.\n",
    "\n",
    "#### 🖼️ Saved Plot:\n",
    "\n",
    "* **Path**: `EDA_Plots/position_distribution.png`\n",
    "\n",
    "#### 📁 CSV Output:\n",
    "\n",
    "* **Path**: `EDA_CSVs/position_summary.csv`\n",
    "\n",
    "#### 📋 Position Summary Table:\n",
    "\n",
    "| Position  | Count |\n",
    "| :-------- | ----: |\n",
    "| Assistant |   214 |\n",
    "| Director  |   204 |\n",
    "| Clerk     |   202 |\n",
    "| Analyst   |   194 |\n",
    "| Manager   |   186 |\n",
    "\n",
    "#### 🔎 Interpretation:\n",
    "\n",
    "* **Assistant** is the most common role, which could suggest a **support-heavy workforce** structure.\n",
    "* The presence of **Director** and **Manager** roles in the top 5 indicates a strong **management presence**, potentially reflecting **hierarchical layers**.\n",
    "* The high count of **Clerks** points to a substantial **administrative/operational load**.\n",
    "* **Analysts** are also prominently represented, suggesting **data-driven roles** are becoming more common.\n",
    "\n",
    "#### 💡 Key Insights:\n",
    "\n",
    "* There may be a **lean toward operational and administrative roles**.\n",
    "* The organization appears to have a **top-heavy structure**, given the prominence of Director and Manager roles.\n",
    "* The presence of many Assistants and Clerks may imply opportunities for **workflow automation or efficiency improvements**.\n",
    "\n",
    "#### ⚠️ Challenges:\n",
    "\n",
    "* **Generic job titles** (like “Assistant” or “Analyst”) may mask role diversity — e.g., an “Analyst” could span Finance, Marketing, or HR.\n",
    "* Inconsistent naming conventions (e.g., “Manager” vs “Project Manager”) may understate or overstate some categories.\n",
    "\n",
    "#### ✅ Strategic Recommendations:\n",
    "\n",
    "* Conduct a deeper analysis of generic titles to uncover **functional role groupings**.\n",
    "* Assess whether the **high number of Assistants and Clerks** indicates **manual workload** that could be optimized.\n",
    "* Align **managerial headcount** with team sizes and performance metrics to ensure **organizational balance**."
   ]
  },
  {
   "cell_type": "markdown",
   "id": "73312353-3c39-4fb5-9723-d63cd45220ef",
   "metadata": {
    "jp-MarkdownHeadingCollapsed": true
   },
   "source": [
    "# 🔍 4.4 Histogram – Age Distribution\n",
    "## Overview:\n",
    "Distribution of employee ages.\n",
    "\n",
    "## Purpose:\n",
    "To assess workforce demographics."
   ]
  },
  {
   "cell_type": "code",
   "execution_count": 33,
   "id": "11764c4f-2bb2-4fd4-9249-3056c6d8c506",
   "metadata": {},
   "outputs": [
    {
     "data": {
      "image/png": "[encoded data removed]",
      "text/plain": [
       "<Figure size 800x500 with 1 Axes>"
      ]
     },
     "metadata": {},
     "output_type": "display_data"
    }
   ],
   "source": [
    "plt.figure(figsize=(8, 5))\n",
    "sns.histplot(data=df, x='Age', bins=15, kde=True, color='skyblue')\n",
    "plt.title('Age Distribution of Employees')\n",
    "plt.xlabel('Age')\n",
    "plt.ylabel('Frequency')\n",
    "plt.tight_layout()\n",
    "plt.savefig(os.path.join(plot_dir, 'age_distribution.png'))\n",
    "plt.show()\n"
   ]
  },
  {
   "cell_type": "markdown",
   "id": "a1e49d63-c63c-4d53-ac32-ad42f62c3075",
   "metadata": {},
   "source": [
    "# Summary:\n",
    "X: Age ranges\n",
    "Y: Number of employees\n",
    "\n",
    "## Interpretation:\n",
    "Identifies predominant age groups.\n",
    "\n",
    "## Key Insights:\n",
    "Workforce may be skewed toward younger or older groups.\n",
    "\n",
    "## Challenges:\n",
    "Outliers or incorrect entries (e.g., Age = 5 or 99).\n",
    "\n",
    "## Recommendation:\n",
    "Check for valid age range (e.g., 18–65) before plotting."
   ]
  },
  {
   "cell_type": "code",
   "execution_count": 73,
   "id": "f2db6331-a2f4-4bab-9494-7f30b5bd0fe0",
   "metadata": {},
   "outputs": [
    {
     "data": {
      "image/png": "[encoded data removed]",
      "text/plain": [
       "<Figure size 1000x500 with 1 Axes>"
      ]
     },
     "metadata": {},
     "output_type": "display_data"
    },
    {
     "name": "stdout",
     "output_type": "stream",
     "text": [
      "📋 Age Summary Table:\n"
     ]
    },
    {
     "data": {
      "text/html": [
       "<div>\n",
       "<style scoped>\n",
       "    .dataframe tbody tr th:only-of-type {\n",
       "        vertical-align: middle;\n",
       "    }\n",
       "\n",
       "    .dataframe tbody tr th {\n",
       "        vertical-align: top;\n",
       "    }\n",
       "\n",
       "    .dataframe thead th {\n",
       "        text-align: right;\n",
       "    }\n",
       "</style>\n",
       "<table border=\"1\" class=\"dataframe\">\n",
       "  <thead>\n",
       "    <tr style=\"text-align: right;\">\n",
       "      <th></th>\n",
       "      <th>Value</th>\n",
       "    </tr>\n",
       "  </thead>\n",
       "  <tbody>\n",
       "    <tr>\n",
       "      <th>count</th>\n",
       "      <td>841</td>\n",
       "    </tr>\n",
       "    <tr>\n",
       "      <th>unique</th>\n",
       "      <td>5</td>\n",
       "    </tr>\n",
       "    <tr>\n",
       "      <th>top</th>\n",
       "      <td>thirty</td>\n",
       "    </tr>\n",
       "    <tr>\n",
       "      <th>freq</th>\n",
       "      <td>176</td>\n",
       "    </tr>\n",
       "  </tbody>\n",
       "</table>\n",
       "</div>"
      ],
      "text/plain": [
       "         Value\n",
       "count      841\n",
       "unique       5\n",
       "top     thirty\n",
       "freq       176"
      ]
     },
     "metadata": {},
     "output_type": "display_data"
    }
   ],
   "source": [
    "# 📊 AGE DISTRIBUTION HISTOGRAM + SUMMARY\n",
    "import pandas as pd\n",
    "import matplotlib.pyplot as plt\n",
    "import seaborn as sns\n",
    "import os\n",
    "\n",
    "# Load cleaned HR data\n",
    "file_path = r'C:\\Users\\HP USER\\Documents\\HN-Personal\\Regonet Files\\Regonet_4proj_challenge\\Messy_HR_Proj\\cleaned_hr_data.csv'\n",
    "df = pd.read_csv(file_path)\n",
    "\n",
    "# Output folders\n",
    "plot_dir = \"EDA_Plots\"\n",
    "csv_dir = \"EDA_CSVs\"\n",
    "os.makedirs(plot_dir, exist_ok=True)\n",
    "os.makedirs(csv_dir, exist_ok=True)\n",
    "\n",
    "# Histogram for Age\n",
    "plt.figure(figsize=(10, 5))\n",
    "sns.histplot(df['Age'].dropna(), bins=20, kde=True, color='skyblue')\n",
    "plt.title(\"Age Distribution\")\n",
    "plt.xlabel(\"Age\")\n",
    "plt.ylabel(\"Frequency\")\n",
    "plt.tight_layout()\n",
    "\n",
    "# Save plot\n",
    "age_plot_path = os.path.join(plot_dir, \"age_histogram.png\")\n",
    "plt.savefig(age_plot_path)\n",
    "plt.show()\n",
    "\n",
    "# Summary table for Age\n",
    "age_summary = df['Age'].describe().round(2).to_frame(name=\"Value\")\n",
    "print(\"📋 Age Summary Table:\")\n",
    "display(age_summary)\n",
    "\n",
    "# Save summary table as CSV\n",
    "age_summary_path = os.path.join(csv_dir, \"age_summary.csv\")\n",
    "age_summary.to_csv(age_summary_path)\n"
   ]
  },
  {
   "cell_type": "markdown",
   "id": "6fd24771-c2e0-42a6-acc9-0deefb99d9d5",
   "metadata": {},
   "source": [
    "### Histogram: Age Distribution\n",
    "\n",
    "#### Overview:\n",
    "The histogram visualizes the distribution of employee ages across the organization after data cleaning.\n",
    "\n",
    "#### Purpose:\n",
    "To assess whether age data is uniformly numeric and usable, and to explore workforce age diversity or possible anomalies.\n",
    "\n",
    "Summary Table:\n",
    "\n",
    "Metric\tValue\n",
    "\n",
    "Count\t841\n",
    "Unique\t5\n",
    "Top\tthirty\n",
    "Frequency\t176\n",
    "\n",
    "\n",
    "> Note: The presence of non-numeric values such as “thirty” suggests that the Age column may still contain uncleaned categorical strings, which is inappropriate for numerical analysis.\n",
    "\n",
    "\n",
    "\n",
    "#### Interpretation:\n",
    "The histogram would likely show skewed or inaccurate data due to the textual values (“thirty”) still present. This also explains the low number of unique values and the frequency spike.\n",
    "\n",
    "#### Key Insights:\n",
    "\n",
    "Age data is not fully cleaned; non-numeric values still exist.\n",
    "\n",
    "Cannot make demographic or diversity conclusions until further cleaning is done.\n",
    "\n",
    "\n",
    "#### Challenges:\n",
    "\n",
    "Improper cleaning of categorical age representations (\"thirty\", \"forty-five\", etc.)\n",
    "\n",
    "This affects statistical calculations and histogram readability.\n",
    "\n",
    "\n",
    "#### Strategic Recommendations:\n",
    "\n",
    "Reclean the Age column using a numeric conversion with appropriate error handling (pd.to_numeric(errors='coerce')).\n",
    "\n",
    "Re-run the analysis after ensuring all values are numeric.\n",
    "\n",
    "Consider binning age groups (e.g., 20–29, 30–39) once data is numeric for better workforce age profile analysis.\n"
   ]
  },
  {
   "cell_type": "code",
   "execution_count": 77,
   "id": "97b4272c-a3d7-40b4-931f-bc5fbcf54f7c",
   "metadata": {},
   "outputs": [
    {
     "name": "stdout",
     "output_type": "stream",
     "text": [
      "📋 Cleaned Age Summary:\n",
      "count    665.000000\n",
      "mean      37.338346\n",
      "std        9.012949\n",
      "min       25.000000\n",
      "25%       25.000000\n",
      "50%       35.000000\n",
      "75%       40.000000\n",
      "max       50.000000\n",
      "Name: Age, dtype: float64\n",
      "\n",
      "Unique non-numeric or removed entries have been dropped or converted.\n",
      "\n",
      "Number of missing Age values after cleaning: 0\n"
     ]
    }
   ],
   "source": [
    "# Because of the Age column still having non numeric data further cleaning required\n",
    "import pandas as pd\n",
    "import numpy as np\n",
    "import os\n",
    "\n",
    "# Load the cleaned HR data\n",
    "file_path = r'C:\\Users\\HP USER\\Documents\\HN-Personal\\Regonet Files\\Regonet_4proj_challenge\\Messy_HR_Proj\\cleaned_hr_data.csv'\n",
    "df = pd.read_csv(file_path)\n",
    "\n",
    "# Clean Age column: Convert to numeric, forcing errors to NaN\n",
    "df['Age'] = pd.to_numeric(df['Age'], errors='coerce')\n",
    "\n",
    "# Optional: Remove rows with missing or unrealistic ages\n",
    "df = df[df['Age'].between(18, 70)]  # Assuming working age range\n",
    "\n",
    "# Save the new version of cleaned data\n",
    "new_path = r'C:\\Users\\HP USER\\Documents\\HN-Personal\\Regonet Files\\Regonet_4proj_challenge\\Messy_HR_Proj\\cleaned_hr_data_v2.csv'\n",
    "df.to_csv(new_path, index=False)\n",
    "\n",
    "# Display summary of Age after cleaning\n",
    "print(\"📋 Cleaned Age Summary:\")\n",
    "print(df['Age'].describe())\n",
    "print(\"\\nUnique non-numeric or removed entries have been dropped or converted.\")\n",
    "\n",
    "# Optional: Show the count of missing Age values\n",
    "print(f\"\\nNumber of missing Age values after cleaning: {df['Age'].isnull().sum()}\")"
   ]
  },
  {
   "cell_type": "code",
   "execution_count": 79,
   "id": "0f601c13-eb5f-4534-8065-1880e09e1135",
   "metadata": {},
   "outputs": [
    {
     "data": {
      "image/png": "[encoded data removed]",
      "text/plain": [
       "<Figure size 1000x500 with 1 Axes>"
      ]
     },
     "metadata": {},
     "output_type": "display_data"
    },
    {
     "name": "stdout",
     "output_type": "stream",
     "text": [
      "📋 Age Summary Table:\n"
     ]
    },
    {
     "data": {
      "text/html": [
       "<div>\n",
       "<style scoped>\n",
       "    .dataframe tbody tr th:only-of-type {\n",
       "        vertical-align: middle;\n",
       "    }\n",
       "\n",
       "    .dataframe tbody tr th {\n",
       "        vertical-align: top;\n",
       "    }\n",
       "\n",
       "    .dataframe thead th {\n",
       "        text-align: right;\n",
       "    }\n",
       "</style>\n",
       "<table border=\"1\" class=\"dataframe\">\n",
       "  <thead>\n",
       "    <tr style=\"text-align: right;\">\n",
       "      <th></th>\n",
       "      <th>Value</th>\n",
       "    </tr>\n",
       "  </thead>\n",
       "  <tbody>\n",
       "    <tr>\n",
       "      <th>count</th>\n",
       "      <td>665.00</td>\n",
       "    </tr>\n",
       "    <tr>\n",
       "      <th>mean</th>\n",
       "      <td>37.34</td>\n",
       "    </tr>\n",
       "    <tr>\n",
       "      <th>std</th>\n",
       "      <td>9.01</td>\n",
       "    </tr>\n",
       "    <tr>\n",
       "      <th>min</th>\n",
       "      <td>25.00</td>\n",
       "    </tr>\n",
       "    <tr>\n",
       "      <th>25%</th>\n",
       "      <td>25.00</td>\n",
       "    </tr>\n",
       "    <tr>\n",
       "      <th>50%</th>\n",
       "      <td>35.00</td>\n",
       "    </tr>\n",
       "    <tr>\n",
       "      <th>75%</th>\n",
       "      <td>40.00</td>\n",
       "    </tr>\n",
       "    <tr>\n",
       "      <th>max</th>\n",
       "      <td>50.00</td>\n",
       "    </tr>\n",
       "  </tbody>\n",
       "</table>\n",
       "</div>"
      ],
      "text/plain": [
       "        Value\n",
       "count  665.00\n",
       "mean    37.34\n",
       "std      9.01\n",
       "min     25.00\n",
       "25%     25.00\n",
       "50%     35.00\n",
       "75%     40.00\n",
       "max     50.00"
      ]
     },
     "metadata": {},
     "output_type": "display_data"
    }
   ],
   "source": [
    "# 📊 AGE DISTRIBUTION HISTOGRAM + SUMMARY\n",
    "import pandas as pd\n",
    "import matplotlib.pyplot as plt\n",
    "import seaborn as sns\n",
    "import os\n",
    "\n",
    "# Load cleaned HR data\n",
    "file_path = r'C:\\Users\\HP USER\\Documents\\HN-Personal\\Regonet Files\\Regonet_4proj_challenge\\Messy_HR_Proj\\cleaned_hr_data_v2.csv'\n",
    "df = pd.read_csv(file_path)\n",
    "\n",
    "# Output folders\n",
    "plot_dir = \"EDA_Plots\"\n",
    "csv_dir = \"EDA_CSVs\"\n",
    "os.makedirs(plot_dir, exist_ok=True)\n",
    "os.makedirs(csv_dir, exist_ok=True)\n",
    "\n",
    "# Histogram for Age\n",
    "plt.figure(figsize=(10, 5))\n",
    "sns.histplot(df['Age'].dropna(), bins=20, kde=True, color='skyblue')\n",
    "plt.title(\"Age Distribution\")\n",
    "plt.xlabel(\"Age\")\n",
    "plt.ylabel(\"Frequency\")\n",
    "plt.tight_layout()\n",
    "\n",
    "# Save plot\n",
    "age_plot_path = os.path.join(plot_dir, \"age_histogram_v2.png\")\n",
    "plt.savefig(age_plot_path)\n",
    "plt.show()\n",
    "\n",
    "# Summary table for Age\n",
    "age_summary = df['Age'].describe().round(2).to_frame(name=\"Value\")\n",
    "print(\"📋 Age Summary Table:\")\n",
    "display(age_summary)\n",
    "\n",
    "# Save summary table as CSV\n",
    "age_summary_path = os.path.join(csv_dir, \"age_summary_v2.csv\")\n",
    "age_summary.to_csv(age_summary_path)\n"
   ]
  },
  {
   "cell_type": "markdown",
   "id": "3d802513-7353-412e-bf54-3971a62d662b",
   "metadata": {},
   "source": [
    "## 📊 Age Distribution\n",
    "\n",
    "### 🔍 Overview:\n",
    "\n",
    "This histogram visualizes the age distribution of employees in the cleaned HR dataset after correcting non-numeric values (e.g., “thirty”) and filtering for realistic working ages (18 to 70). The data now accurately represents the demographic spread of the workforce, allowing for more valid analysis.\n",
    "\n",
    "### 🎯 Purpose:\n",
    "\n",
    "* To understand the age composition of the workforce.\n",
    "* To identify age group concentrations for planning around workforce diversity, training, and succession.\n",
    "* To support HR strategies around age-sensitive policies such as retirement or upskilling.\n",
    "\n",
    "### 🖼️ Saved Plot:\n",
    "\n",
    "📍 Path: `EDA_Plots/age_histogram_v2.png`\n",
    "\n",
    "### 📁 CSV Output:\n",
    "\n",
    "📍 Path: `EDA_CSVs/age_summary_v2.csv`\n",
    "\n",
    "### 📋 Age Summary Table:\n",
    "\n",
    "| Metric | Value |\n",
    "| ------ | ----- |\n",
    "| Count  | 665   |\n",
    "| Mean   | 37.34 |\n",
    "| Std    | 9.01  |\n",
    "| Min    | 25.00 |\n",
    "| 25%    | 25.00 |\n",
    "| 50%    | 35.00 |\n",
    "| 75%    | 40.00 |\n",
    "| Max    | 50.00 |\n",
    "\n",
    "### 🔎 Interpretation:\n",
    "\n",
    "* The **average age** is 37.34 years, suggesting a relatively young and mid-career workforce.\n",
    "* A **notably high concentration** of employees falls within the 25–35 age range.\n",
    "* The **minimum and 25th percentile** are both at 25, indicating many younger employees.\n",
    "* The **maximum age** is 50, suggesting either limited senior tenure or truncated data beyond that age.\n",
    "* The distribution shows **moderate spread** (std = 9.01), with a small right skew toward younger ages.\n",
    "\n",
    "### 💡 Key Insights:\n",
    "\n",
    "* The organization appears to have a **young to mid-career demographic**, possibly suited for dynamic, tech-driven roles.\n",
    "* **Succession planning** might be necessary to prepare younger employees for future leadership roles.\n",
    "* Potential opportunity exists to **diversify** age groups if age inclusivity is a goal.\n",
    "\n",
    "### ⚠️ Challenges:\n",
    "\n",
    "* The original dataset contained non-numeric age values like “thirty”, which required conversion and validation.\n",
    "* Age outliers and missing values were excluded, which may slightly reduce completeness.\n",
    "\n",
    "### ✅ Strategic Recommendations:\n",
    "\n",
    "* Evaluate training programs to align with a younger workforce’s career development needs.\n",
    "* Consider recruiting experienced professionals (50+) if leadership gaps or mentorship opportunities are present.\n",
    "* Use the cleaned data to integrate age metrics into broader workforce planning tools."
   ]
  },
  {
   "cell_type": "markdown",
   "id": "28a137a3-524b-405f-a203-b74a6359e07c",
   "metadata": {},
   "source": [
    "# 🔍 4.5 Histogram – Salary Distribution\n",
    "## Overview:\n",
    "Shows salary spread across employees.\n",
    "\n",
    "## Purpose:\n",
    "Understand compensation structure and equity."
   ]
  },
  {
   "cell_type": "markdown",
   "id": "6bf41833-ab49-4640-9a9c-2e365aa3d34a",
   "metadata": {},
   "source": [
    "# Summary:\n",
    "X: Salary ranges\n",
    "Y: Number of employees earning that range\n",
    "\n",
    "## Interpretation:\n",
    "Detects salary clusters and outliers.\n",
    "\n",
    "## Key Insights:\n",
    "Can reveal wage gaps, outliers, or salary bands.\n",
    "\n",
    "## Challenges:\n",
    "Currency inconsistencies or missing salaries.\n",
    "\n",
    "## Recommendation:\n",
    "Normalize salary values (strip symbols, convert currencies) before plotting."
   ]
  },
  {
   "cell_type": "code",
   "execution_count": 75,
   "id": "88a21aee-c16c-4544-91de-66a061c45eff",
   "metadata": {
    "scrolled": true
   },
   "outputs": [
    {
     "data": {
      "image/png": "[encoded data removed]",
      "text/plain": [
       "<Figure size 1000x500 with 1 Axes>"
      ]
     },
     "metadata": {},
     "output_type": "display_data"
    },
    {
     "name": "stdout",
     "output_type": "stream",
     "text": [
      "📋 Salary Summary Table:\n"
     ]
    },
    {
     "data": {
      "text/html": [
       "<div>\n",
       "<style scoped>\n",
       "    .dataframe tbody tr th:only-of-type {\n",
       "        vertical-align: middle;\n",
       "    }\n",
       "\n",
       "    .dataframe tbody tr th {\n",
       "        vertical-align: top;\n",
       "    }\n",
       "\n",
       "    .dataframe thead th {\n",
       "        text-align: right;\n",
       "    }\n",
       "</style>\n",
       "<table border=\"1\" class=\"dataframe\">\n",
       "  <thead>\n",
       "    <tr style=\"text-align: right;\">\n",
       "      <th></th>\n",
       "      <th>Value</th>\n",
       "    </tr>\n",
       "  </thead>\n",
       "  <tbody>\n",
       "    <tr>\n",
       "      <th>count</th>\n",
       "      <td>833.00</td>\n",
       "    </tr>\n",
       "    <tr>\n",
       "      <th>mean</th>\n",
       "      <td>60216.09</td>\n",
       "    </tr>\n",
       "    <tr>\n",
       "      <th>std</th>\n",
       "      <td>7127.03</td>\n",
       "    </tr>\n",
       "    <tr>\n",
       "      <th>min</th>\n",
       "      <td>50000.00</td>\n",
       "    </tr>\n",
       "    <tr>\n",
       "      <th>25%</th>\n",
       "      <td>55000.00</td>\n",
       "    </tr>\n",
       "    <tr>\n",
       "      <th>50%</th>\n",
       "      <td>60000.00</td>\n",
       "    </tr>\n",
       "    <tr>\n",
       "      <th>75%</th>\n",
       "      <td>65000.00</td>\n",
       "    </tr>\n",
       "    <tr>\n",
       "      <th>max</th>\n",
       "      <td>70000.00</td>\n",
       "    </tr>\n",
       "  </tbody>\n",
       "</table>\n",
       "</div>"
      ],
      "text/plain": [
       "          Value\n",
       "count    833.00\n",
       "mean   60216.09\n",
       "std     7127.03\n",
       "min    50000.00\n",
       "25%    55000.00\n",
       "50%    60000.00\n",
       "75%    65000.00\n",
       "max    70000.00"
      ]
     },
     "metadata": {},
     "output_type": "display_data"
    }
   ],
   "source": [
    "# 💰 SALARY DISTRIBUTION HISTOGRAM + SUMMARY\n",
    "# Histogram for Salary\n",
    "plt.figure(figsize=(10, 5))\n",
    "sns.histplot(df['Salary'].dropna(), bins=20, kde=True, color='salmon')\n",
    "plt.title(\"Salary Distribution\")\n",
    "plt.xlabel(\"Salary\")\n",
    "plt.ylabel(\"Frequency\")\n",
    "plt.tight_layout()\n",
    "\n",
    "# Save plot\n",
    "salary_plot_path = os.path.join(plot_dir, \"salary_histogram.png\")\n",
    "plt.savefig(salary_plot_path)\n",
    "plt.show()\n",
    "\n",
    "# Summary table for Salary\n",
    "salary_summary = df['Salary'].describe().round(2).to_frame(name=\"Value\")\n",
    "print(\"📋 Salary Summary Table:\")\n",
    "display(salary_summary)\n",
    "\n",
    "# Save summary table as CSV\n",
    "salary_summary_path = os.path.join(csv_dir, \"salary_summary.csv\")\n",
    "salary_summary.to_csv(salary_summary_path)\n"
   ]
  },
  {
   "cell_type": "markdown",
   "id": "efb78ec2-4e03-4cc1-9406-dc3aafc796ec",
   "metadata": {},
   "source": [
    "### Histogram: Salary Distribution\n",
    "\n",
    "#### 🔍 Overview::\n",
    "This summary and corresponding histogram visualizes the spread of employee salary figures post-cleaning. It also visualizes the distribution of employee salaries in the dataset, highlighting central tendencies and spread across the workforce. The salary data is entirely numeric and exhibits a relatively even spread across defined quartiles, offering clear insight into compensation structure.\n",
    "\n",
    "\n",
    "#### 🎯 Purpose:\n",
    "* To analyze the general salary structure and distribution across the organization.\n",
    "\n",
    "* To identify potential outliers \n",
    "\n",
    "* To assess income equity, identify gaps, and inform pay-grade structuring.\n",
    "  \n",
    "* To evaluate fairness or potential clustering in pay levels.\n",
    "\n",
    "* To support payroll planning, budgeting, compensation benchmarking and reviews, and workforce planning. .\n",
    "\n",
    "\n",
    "#### 🖼️ Saved Plot:\n",
    "📍 Path: `EDA_Plots/salary_histogram_v2.png` \n",
    "\n",
    "#### 📁 CSV Output:\n",
    "📍 Path: `EDA_CSVs/salary_summary_v2.csv`\n",
    "\n",
    "\n",
    "#### 📋 Salary Summary Table:\n",
    "\n",
    "| Metric | Value     |\n",
    "| ------ | --------- |\n",
    "| Count  | 833.00    |\n",
    "| Mean   | 60,216.09 |\n",
    "| Std    | 7,127.03  |\n",
    "| Min    | 50,000.00 |\n",
    "| 25%    | 55,000.00 |\n",
    "| 50%    | 60,000.00 |\n",
    "| 75%    | 65,000.00 |\n",
    "| Max    | 70,000.00 |\n",
    "\n",
    "\n",
    "#### 🔎 Interpretation:\n",
    "* The **average salary** is approximately ₦60,216, indicating a mid-level compensation structure with a fairly symmetrical distribution.\n",
    "\n",
    "* The **salary range** (₦50,000–₦70,000) is quite narrow, with a standard deviation of ₦7,127, suggesting relatively consistent pay across roles and indicating a tight middle spread and a standard compensation structure.\n",
    "\n",
    "* The **median salary** (₦60,000) aligns closely with the mean, indicating a symmetrical distribution without major skew.\n",
    "\n",
    "* The **quartile spread** is fairly even and uniform(₦55,000 to ₦65,000), which hints at a standard grading or step pay structure, which suggests consistent pay banding across roles.\n",
    "\n",
    "\n",
    "#### 💡 Key Insights:\n",
    "* No significant salary outliers were detected.\n",
    "\n",
    "* The consistency in salaries may indicate **defined salary bands** or **structured pay grades**.\n",
    "\n",
    "* The limited salary spread could reflect a **homogenous role structure** or centralized pay policies but might also signal low variation in compensation despite different roles or seniority.\n",
    "\n",
    "* Useful for benchmarking future roles and evaluating compensation equity.\n",
    "\n",
    "* There's potential to assess whether performance, responsibility, or tenure justifies the salary consistency.\n",
    "\n",
    "\n",
    "#### ⚠️ Challenges:\n",
    "\n",
    "* A small number of missing salary entries (17 missing from 850 total).\n",
    "\n",
    "* Possible grouping of salaries in set increments may mask fine variations.\n",
    "\n",
    "* The salary range is relatively compressed and lacking variation, which might limit interpretation of role-based compensation differentiation. \n",
    "\n",
    "* The current data does not distinguish full-time, part-time, or contractual differences.\n",
    "\n",
    "* Absence of role or level tie-ins to salary could make it difficult to connect pay to performance or seniority.\n",
    "\n",
    "\n",
    "#### ✅ Strategic Recommendations:\n",
    "\n",
    "* Investigate salary by department or conduct role-level salary breakdown to detect internal inconsistencies and to assess internal equity.\n",
    "\n",
    "* Evaluate whether roles in high-skill departments (e.g., IT, Finance) align with this salary range.\n",
    "\n",
    "* Evaluate whether salary bands align with market benchmarks, competitiveness and performance tiers—especially for talent retention or leadership roles.\n",
    "\n",
    "* Conduct job evaluations if the uniformity masks role complexity or value contributions.\n",
    "\n",
    "* Use distribution to inform **pay scale planning**, **budgeting**, and **hiring strategies**.\n",
    "\n",
    "* Use this analysis to drive **pay structure transparency**, **equity audits**, or **compensation strategy updates**."
   ]
  },
  {
   "cell_type": "code",
   "execution_count": null,
   "id": "a4ac35c8-127c-4821-b0c4-f17d0eff062b",
   "metadata": {},
   "outputs": [],
   "source": [
    "## 📊 Salary Distribution\n",
    "\n",
    "### 🔍 Overview:\n",
    "\n",
    "This summary and corresponding histogram capture the distribution of employee salaries within the cleaned HR dataset. \n",
    "The salary data is entirely numeric and exhibits a relatively even spread across defined quartiles, offering clear insight into compensation structure.\n",
    "\n",
    "### 🎯 Purpose:\n",
    "\n",
    "* To analyze how salaries are distributed across the organization.\n",
    "* To assess income equity, identify gaps, and inform pay-grade structuring.\n",
    "* To support budgeting, compensation reviews, and workforce planning.\n",
    "\n",
    "### 🖼️ Saved Plot:\n",
    "\n",
    "📍 Path: `EDA_Plots/salary_histogram_v2.png` *(Assumed location; let me know if not yet generated.)*\n",
    "\n",
    "### 📁 CSV Output:\n",
    "\n",
    "📍 Path: `EDA_CSVs/salary_summary_v2.csv`\n",
    "\n",
    "### 📋 Salary Summary Table:\n",
    "\n",
    "| Metric | Value     |\n",
    "| ------ | --------- |\n",
    "| Count  | 833.00    |\n",
    "| Mean   | 60,216.09 |\n",
    "| Std    | 7,127.03  |\n",
    "| Min    | 50,000.00 |\n",
    "| 25%    | 55,000.00 |\n",
    "| 50%    | 60,000.00 |\n",
    "| 75%    | 65,000.00 |\n",
    "| Max    | 70,000.00 |\n",
    "\n",
    "### 🔎 Interpretation:\n",
    "\n",
    "* The **average salary** is approximately ₦60,216, indicating a mid-level compensation structure.\n",
    "* The **salary range** (₦50,000–₦70,000) is quite narrow, with a standard deviation of ₦7,127, suggesting relatively consistent pay across roles.\n",
    "* The **median salary** (₦60,000) aligns closely with the mean, indicating a symmetrical distribution without major skew.\n",
    "* The **quartile spread** is fairly even (₦55,000 to ₦65,000), which hints at a standard grading or step pay structure.\n",
    "\n",
    "### 💡 Key Insights:\n",
    "\n",
    "* The consistency in salaries may indicate **defined salary bands** or **structured pay grades**.\n",
    "* The limited salary spread could reflect a **homogenous role structure** or centralized pay policies.\n",
    "* There's potential to assess whether performance, responsibility, or tenure justifies the salary consistency.\n",
    "\n",
    "### ⚠️ Challenges:\n",
    "\n",
    "* The salary range is relatively compressed, which might limit interpretation of role-based compensation differentiation.\n",
    "* Absence of role or level tie-ins to salary could make it difficult to connect pay to performance or seniority.\n",
    "\n",
    "### ✅ Strategic Recommendations:\n",
    "\n",
    "* Consider enriching this data by merging with job titles or departments to assess salary equity across functions.\n",
    "* Review if the current banding meets market competitiveness—especially for talent retention or leadership roles.\n",
    "* Use this analysis to drive **pay structure transparency**, **equity audits**, or **compensation strategy updates**.\n",
    "\n",
    "\n",
    "    "
   ]
  },
  {
   "cell_type": "code",
   "execution_count": 62,
   "id": "9c22618a-7250-4a49-8eab-8842ca6db334",
   "metadata": {},
   "outputs": [
    {
     "name": "stderr",
     "output_type": "stream",
     "text": [
      "C:\\Users\\HP USER\\AppData\\Local\\Temp\\ipykernel_25692\\5233521.py:19: FutureWarning: \n",
      "\n",
      "Passing `palette` without assigning `hue` is deprecated and will be removed in v0.14.0. Assign the `y` variable to `hue` and set `legend=False` for the same effect.\n",
      "\n",
      "  sns.barplot(x=dept_counts.values, y=dept_counts.index, palette='Set2')\n"
     ]
    },
    {
     "data": {
      "image/png": "[encoded data removed]",
      "text/plain": [
       "<Figure size 1000x600 with 1 Axes>"
      ]
     },
     "metadata": {},
     "output_type": "display_data"
    },
    {
     "name": "stdout",
     "output_type": "stream",
     "text": [
      "📋 Department Summary Table:\n",
      "| Department   |   Count |\n",
      "|:-------------|--------:|\n",
      "| Finance      |     218 |\n",
      "| Sales        |     202 |\n",
      "| HR           |     200 |\n",
      "| IT           |     193 |\n",
      "| Marketing    |     187 |\n",
      "\n",
      "🔍 Interpretation:\n",
      "This chart shows the number of employees in each department. Larger bars represent higher headcounts.\n",
      "\n",
      "💡 Key Insights:\n",
      "- The company is most staffed in departments like Finance, suggesting these are core functions.\n",
      "- Departments with lower counts may need resourcing or restructuring.\n",
      "\n",
      "⚠ Challenges:\n",
      "- Department naming variations may have previously caused misclassification. Ensure mapping is robust.\n",
      "\n",
      "📌 Strategic Recommendations:\n",
      "- Use this data to balance staffing across departments.\n",
      "- Validate department distribution against organizational goals.\n"
     ]
    }
   ],
   "source": [
    "import pandas as pd\n",
    "import os\n",
    "import matplotlib.pyplot as plt\n",
    "import seaborn as sns\n",
    "\n",
    "# Load the cleaned dataset\n",
    "file_path = r\"C:\\Users\\HP USER\\Documents\\HN-Personal\\Regonet Files\\Regonet_4proj_challenge\\Messy_HR_Proj\\cleaned_hr_data.csv\"\n",
    "df = pd.read_csv(file_path)\n",
    "\n",
    "# Create output folder\n",
    "plot_dir = os.path.join(os.path.dirname(file_path), \"EDA_Plots\")\n",
    "table_dir = os.path.join(os.path.dirname(file_path), \"EDA_Tables\")\n",
    "os.makedirs(plot_dir, exist_ok=True)\n",
    "os.makedirs(table_dir, exist_ok=True)\n",
    "\n",
    "### 1. Cleaned Department Bar Plot ###\n",
    "plt.figure(figsize=(10, 6))\n",
    "dept_counts = df['Department'].value_counts()\n",
    "sns.barplot(x=dept_counts.values, y=dept_counts.index, palette='Set2')\n",
    "plt.title(\"Distribution of Cleaned Departments\")\n",
    "plt.xlabel(\"Count\")\n",
    "plt.ylabel(\"Department\")\n",
    "plt.tight_layout()\n",
    "plt.savefig(os.path.join(plot_dir, \"department_distribution.png\"))\n",
    "plt.show()\n",
    "\n",
    "# Department Summary Table\n",
    "dept_summary = pd.DataFrame({\n",
    "    \"Department\": dept_counts.index,\n",
    "    \"Count\": dept_counts.values\n",
    "})\n",
    "dept_summary.to_csv(os.path.join(table_dir, \"department_summary.csv\"), index=False)\n",
    "\n",
    "print(\"📋 Department Summary Table:\")\n",
    "print(dept_summary.to_markdown(index=False))\n",
    "\n",
    "### Interpretation and Insights ###\n",
    "print(\"\\n🔍 Interpretation:\")\n",
    "print(\"This chart shows the number of employees in each department. Larger bars represent higher headcounts.\")\n",
    "\n",
    "print(\"\\n💡 Key Insights:\")\n",
    "print(\"- The company is most staffed in departments like {}, suggesting these are core functions.\".format(dept_counts.index[0]))\n",
    "print(\"- Departments with lower counts may need resourcing or restructuring.\")\n",
    "\n",
    "print(\"\\n⚠ Challenges:\")\n",
    "print(\"- Department naming variations may have previously caused misclassification. Ensure mapping is robust.\")\n",
    "\n",
    "print(\"\\n📌 Strategic Recommendations:\")\n",
    "print(\"- Use this data to balance staffing across departments.\")\n",
    "print(\"- Validate department distribution against organizational goals.\")\n"
   ]
  },
  {
   "cell_type": "code",
   "execution_count": 36,
   "id": "59b65c86-477f-4427-9319-85291bb357be",
   "metadata": {},
   "outputs": [
    {
     "data": {
      "image/png": "[encoded data removed]",
      "text/plain": [
       "<Figure size 1000x600 with 1 Axes>"
      ]
     },
     "metadata": {},
     "output_type": "display_data"
    },
    {
     "data": {
      "image/png": "[encoded data removed]",
      "text/plain": [
       "<Figure size 1000x600 with 1 Axes>"
      ]
     },
     "metadata": {},
     "output_type": "display_data"
    }
   ],
   "source": [
    "# Clean and Standardize Numeric Columns\n",
    "# Custom dictionary mapping for Age\n",
    "age_mapping = {\n",
    "    'twenty-five': 25,\n",
    "    'thirty': 30,\n",
    "    'forty-five': 45\n",
    "}\n",
    "\n",
    "# Custom dictionary mapping for Salary\n",
    "salary_mapping = {\n",
    "    'fifty thousand': 50000,\n",
    "    'sixty thousand': 60000\n",
    "}\n",
    "\n",
    "# Apply mapping and convert to numeric\n",
    "df['Age'] = df['Age'].replace(age_mapping)\n",
    "df['Age'] = pd.to_numeric(df['Age'], errors='coerce')\n",
    "\n",
    "df['Salary'] = df['Salary'].replace(salary_mapping)\n",
    "df['Salary'] = pd.to_numeric(df['Salary'], errors='coerce')\n",
    "\n",
    "# Let's create histograms to visualize the distributions before and after cleaning.\n",
    "\n",
    "# Before cleaning\n",
    "plt.figure(figsize=(10, 6))\n",
    "sns.histplot(df['Age'], bins=20)\n",
    "plt.title(\"Age Distribution Before Cleaning\")\n",
    "plt.savefig(\"age_before_cleaning.png\")\n",
    "plt.show()\n",
    "\n",
    "# After cleaning\n",
    "plt.figure(figsize=(10, 6))\n",
    "sns.histplot(df['Age'].dropna(), bins=20)\n",
    "plt.title(\"Age Distribution After Cleaning\")\n",
    "plt.savefig(\"age_after_cleaning.png\")\n",
    "plt.show()\n"
   ]
  },
  {
   "cell_type": "markdown",
   "id": "07e28b52-b806-43b2-8516-5d6c07f7a85f",
   "metadata": {},
   "source": [
    "## 5. Share – Communicate Insights\n",
    "\n",
    "### 5.1 🎯 Objective\n",
    "\n",
    "This project aimed to clean, analyze, and visualize HR data to uncover hidden patterns in employee demographics, salary distribution, and performance trends. The primary objective was to convert raw, messy data into actionable insights that could inform HR decisions related to talent management, compensation planning, and workforce development.\n",
    "\n",
    "---\n",
    "\n",
    "### 5.2 🔍 Key Insights\n",
    "\n",
    "- 🧓 **Age Distribution**: Majority of employees are between 30–40 years old, indicating a mid-career workforce.\n",
    "- 💰 **Salary Insights**: Average salary is approximately $60,216, with most employees earning between $55,000–$65,000.\n",
    "- 🏢 **Department Trends**: Sales and Engineering departments have the highest employee counts.\n",
    "- 🧠 **Performance Score Analysis**: A pattern between department and performance was noticed, which could guide employee development programs.\n",
    "\n",
    "---\n",
    "\n",
    "### 5.3 📊 Communicate Visually\n",
    "\n",
    "Key charts and visualizations used to communicate the findings include:\n",
    "\n",
    "- **Bar Charts** showing employee count by department and gender.\n",
    "- **Histograms** depicting age and salary distributions.\n",
    "- **Pie Charts** for department-level gender ratios.\n",
    "- **Boxplots** to visualize salary spread across departments.\n",
    "- *(Optional)* **Heatmaps** to show correlation between numeric features like age and salary.\n",
    "\n",
    "These visualizations aid both technical and non-technical stakeholders in understanding key trends in the HR data.\n",
    "\n",
    "---\n",
    "\n",
    "### 5.4 💾 Export or Present\n",
    "\n",
    "#### a. Export Processed Data\n",
    "\n",
    "The cleaned dataset was saved as `clean_hr_data.csv` for further analysis or dashboard integration.\n",
    "\n",
    "#### b. Share Technical and Non-Technical Insights\n",
    "\n",
    "- **Technical Audience**: Described the use of `pandas`, `matplotlib`, and `seaborn` for data processing and visualization.\n",
    "- **Non-Technical Audience**: Focused on business implications such as workforce age structure, salary ranges, and department distribution.\n",
    "\n",
    "#### c. Save Notebook for Sharing\n",
    "\n",
    "The notebook has been cleaned and finalized as `hr_analysis_final.ipynb` and is available in the GitHub repository.\n",
    "\n",
    "#### d. Prepare GitHub-Ready Notebook\n",
    "\n",
    "- Cleared redundant output cells\n",
    "- Added headers and markdown for sectioning\n",
    "- Committed updated notebook to GitHub\n",
    "- Included LICENSE and detailed README\n",
    "\n",
    "---\n",
    "\n",
    "### 5.5 📄 Document the Findings\n",
    "\n",
    "The analysis highlighted critical insights from HR data, emphasized areas of data quality (e.g., missing values in email/phone), and proposed actionable directions for HR strategy. Future improvements could include integrating more features such as years of experience and attrition data.\n",
    "\n",
    "> This HR data analysis journey demonstrates how structured analytics can bring clarity to messy data and guide meaningful decision-making. By sharing the project and code on GitHub, I invite others to explore, collaborate, and build upon these insights. Let’s unlock the true power of data—together.\n"
   ]
  },
  {
   "cell_type": "markdown",
   "id": "5068edb3-3e70-4399-b36c-9e52603155e8",
   "metadata": {},
   "source": [
    "## 6. ACT Phase – From Insight to Action\n",
    "\n",
    "---\n",
    "\n",
    "### ✅ Conclusion\n",
    "\n",
    "This project transformed a messy and incomplete HR dataset into meaningful insights that can inform data-driven decisions. From identifying workforce trends to visualizing salary and performance patterns, each step of the APPASA process contributed to a clear and structured analysis pipeline.\n",
    "\n",
    "---\n",
    "\n",
    "### 💭 Reflections\n",
    "\n",
    "- This project reinforced the importance of **data cleaning** as the foundation for trustworthy analysis.\n",
    "- I gained deeper familiarity with **pandas**, **matplotlib**, and **seaborn**, which strengthened my technical skills.\n",
    "- Working through missing values, categorical encoding, and visualization emphasized the real-world challenges of HR data.\n",
    "- It was rewarding to witness how much impact **clear visuals and storytelling** can have when communicating with different audiences.\n",
    "\n",
    "---\n",
    "\n",
    "### 📌 Final Conclusion\n",
    "\n",
    "This HR analysis project exemplifies the power of data in uncovering valuable insights hidden beneath inconsistencies and noise. By applying a structured framework and visual storytelling, I was able to surface trends that matter — like age distributions, salary patterns, departmental insights, and gender ratios.\n",
    "\n",
    "These insights could help HR teams:\n",
    "- Make informed decisions on hiring and retention.\n",
    "- Benchmark salary ranges.\n",
    "- Identify potential gender or departmental imbalances.\n",
    "- Plan strategic workforce initiatives.\n",
    "\n",
    "---\n",
    "\n",
    "### 💡 Final Thoughts\n",
    "\n",
    "- **Actionability**: This project demonstrated how even simple exploratory data analysis can generate actionable insights.\n",
    "- **Scalability**: With more complete data (e.g., years of experience, education, performance over time), further analyses can be developed.\n",
    "- **Next Steps**: Build a dashboard version of this analysis or run predictive modeling on employee attrition or promotion likelihood.\n",
    "\n",
    "---\n",
    "\n",
    "## 📎 Appendix\n",
    "\n",
    "### A. Glossary of Terms\n",
    "- **EDA (Exploratory Data Analysis)**: A method of analyzing data sets to summarize their main characteristics.\n",
    "- **Boxplot**: A visualization that shows the distribution, median, and outliers in a dataset.\n",
    "- **Outliers**: Values that are significantly different from the majority of the data.\n",
    "- **Categorical Data**: Data that represents categories or labels (e.g., Gender, Department).\n",
    "- **Null Values**: Missing entries in the dataset.\n",
    "- **pandas**:Python library for data manipulation and analysis\n",
    "- **matplotlib**: Python library for plotting and data visualization\n",
    "- **Joining Date**:The date an employee was officially hired\n",
    "- **Performance Score**: A qualitative rating of employee performance\n",
    "- **Years of Experience**: Difference between current date and joining date\n",
    "- **Missing Data**: Null or empty values requiring cleanup or imputation\n",
    "- **Code Repository**: A link to the GitHub repository containing the code used for the analysis.\n",
    "- **Data Dictionary**: A detailed description of the variables and data used in the analysis. \n",
    "\n",
    "\n",
    "### B. Tools Used\n",
    "- Python (pandas, matplotlib, seaborn)\n",
    "- Jupyter Notebook\n",
    "- GitHub\n",
    "- Medium for project storytelling\n",
    "\n",
    "\n",
    "\n",
    "> 🎯 Thank you for reviewing this project! You can access the full project on [GitHub](https://github.com/hnadigwe/hr-data-portfolio) and read more about it on [Medium](https://medium.com/@helennellieadigwe/from-messy-to-meaningful-showcasing-the-power-of-data-in-uncovering-hidden-patterns-and-9134c73d77bb).\n"
   ]
  }
 ],
 "metadata": {
  "kernelspec": {
   "display_name": "Python (geopandas_env)",
   "language": "python",
   "name": "geopandas_env"
  },
  "language_info": {
   "codemirror_mode": {
    "name": "ipython",
    "version": 3
   },
   "file_extension": ".py",
   "mimetype": "text/x-python",
   "name": "python",
   "nbconvert_exporter": "python",
   "pygments_lexer": "ipython3",
   "version": "3.10.15"
  }
 },
 "nbformat": 4,
 "nbformat_minor": 5
}
